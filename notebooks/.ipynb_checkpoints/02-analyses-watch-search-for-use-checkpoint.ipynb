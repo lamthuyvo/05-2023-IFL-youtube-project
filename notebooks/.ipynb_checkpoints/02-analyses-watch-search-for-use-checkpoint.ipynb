{
 "cells": [
  {
   "cell_type": "code",
   "execution_count": 1,
   "id": "51597634",
   "metadata": {},
   "outputs": [
    {
     "ename": "KeyboardInterrupt",
     "evalue": "",
     "output_type": "error",
     "traceback": [
      "\u001b[0;31m---------------------------------------------------------------------------\u001b[0m",
      "\u001b[0;31mKeyboardInterrupt\u001b[0m                         Traceback (most recent call last)",
      "Cell \u001b[0;32mIn[1], line 6\u001b[0m\n\u001b[1;32m      4\u001b[0m \u001b[38;5;28;01mimport\u001b[39;00m \u001b[38;5;21;01mdatetime\u001b[39;00m\n\u001b[1;32m      5\u001b[0m \u001b[38;5;28;01mimport\u001b[39;00m \u001b[38;5;21;01mspacy\u001b[39;00m\n\u001b[0;32m----> 6\u001b[0m \u001b[38;5;28;01mimport\u001b[39;00m \u001b[38;5;21;01mmatplotlib\u001b[39;00m\u001b[38;5;21;01m.\u001b[39;00m\u001b[38;5;21;01mpyplot\u001b[39;00m \u001b[38;5;28;01mas\u001b[39;00m \u001b[38;5;21;01mplt\u001b[39;00m\n",
      "File \u001b[0;32m~/Dropbox/work/brown/asian_elderly/analysis/venv/lib/python3.11/site-packages/matplotlib/pyplot.py:61\u001b[0m\n\u001b[1;32m     58\u001b[0m \u001b[38;5;28;01mfrom\u001b[39;00m \u001b[38;5;21;01mmatplotlib\u001b[39;00m \u001b[38;5;28;01mimport\u001b[39;00m _docstring\n\u001b[1;32m     59\u001b[0m \u001b[38;5;28;01mfrom\u001b[39;00m \u001b[38;5;21;01mmatplotlib\u001b[39;00m\u001b[38;5;21;01m.\u001b[39;00m\u001b[38;5;21;01mbackend_bases\u001b[39;00m \u001b[38;5;28;01mimport\u001b[39;00m (\n\u001b[1;32m     60\u001b[0m     FigureCanvasBase, FigureManagerBase, MouseButton)\n\u001b[0;32m---> 61\u001b[0m \u001b[38;5;28;01mfrom\u001b[39;00m \u001b[38;5;21;01mmatplotlib\u001b[39;00m\u001b[38;5;21;01m.\u001b[39;00m\u001b[38;5;21;01mfigure\u001b[39;00m \u001b[38;5;28;01mimport\u001b[39;00m Figure, FigureBase, figaspect\n\u001b[1;32m     62\u001b[0m \u001b[38;5;28;01mfrom\u001b[39;00m \u001b[38;5;21;01mmatplotlib\u001b[39;00m\u001b[38;5;21;01m.\u001b[39;00m\u001b[38;5;21;01mgridspec\u001b[39;00m \u001b[38;5;28;01mimport\u001b[39;00m GridSpec, SubplotSpec\n\u001b[1;32m     63\u001b[0m \u001b[38;5;28;01mfrom\u001b[39;00m \u001b[38;5;21;01mmatplotlib\u001b[39;00m \u001b[38;5;28;01mimport\u001b[39;00m rcParams, rcParamsDefault, get_backend, rcParamsOrig\n",
      "File \u001b[0;32m~/Dropbox/work/brown/asian_elderly/analysis/venv/lib/python3.11/site-packages/matplotlib/figure.py:43\u001b[0m\n\u001b[1;32m     40\u001b[0m \u001b[38;5;28;01mimport\u001b[39;00m \u001b[38;5;21;01mnumpy\u001b[39;00m \u001b[38;5;28;01mas\u001b[39;00m \u001b[38;5;21;01mnp\u001b[39;00m\n\u001b[1;32m     42\u001b[0m \u001b[38;5;28;01mimport\u001b[39;00m \u001b[38;5;21;01mmatplotlib\u001b[39;00m \u001b[38;5;28;01mas\u001b[39;00m \u001b[38;5;21;01mmpl\u001b[39;00m\n\u001b[0;32m---> 43\u001b[0m \u001b[38;5;28;01mfrom\u001b[39;00m \u001b[38;5;21;01mmatplotlib\u001b[39;00m \u001b[38;5;28;01mimport\u001b[39;00m _blocking_input, backend_bases, _docstring, projections\n\u001b[1;32m     44\u001b[0m \u001b[38;5;28;01mfrom\u001b[39;00m \u001b[38;5;21;01mmatplotlib\u001b[39;00m\u001b[38;5;21;01m.\u001b[39;00m\u001b[38;5;21;01martist\u001b[39;00m \u001b[38;5;28;01mimport\u001b[39;00m (\n\u001b[1;32m     45\u001b[0m     Artist, allow_rasterization, _finalize_rasterization)\n\u001b[1;32m     46\u001b[0m \u001b[38;5;28;01mfrom\u001b[39;00m \u001b[38;5;21;01mmatplotlib\u001b[39;00m\u001b[38;5;21;01m.\u001b[39;00m\u001b[38;5;21;01mbackend_bases\u001b[39;00m \u001b[38;5;28;01mimport\u001b[39;00m (\n\u001b[1;32m     47\u001b[0m     DrawEvent, FigureCanvasBase, NonGuiException, MouseButton, _get_renderer)\n",
      "File \u001b[0;32m~/Dropbox/work/brown/asian_elderly/analysis/venv/lib/python3.11/site-packages/matplotlib/projections/__init__.py:55\u001b[0m\n\u001b[1;32m      1\u001b[0m \u001b[38;5;124;03m\"\"\"\u001b[39;00m\n\u001b[1;32m      2\u001b[0m \u001b[38;5;124;03mNon-separable transforms that map from data space to screen space.\u001b[39;00m\n\u001b[1;32m      3\u001b[0m \n\u001b[0;32m   (...)\u001b[0m\n\u001b[1;32m     52\u001b[0m \u001b[38;5;124;03m`matplotlib.projections.polar` may also be of interest.\u001b[39;00m\n\u001b[1;32m     53\u001b[0m \u001b[38;5;124;03m\"\"\"\u001b[39;00m\n\u001b[0;32m---> 55\u001b[0m \u001b[38;5;28;01mfrom\u001b[39;00m \u001b[38;5;21;01m.\u001b[39;00m\u001b[38;5;21;01m.\u001b[39;00m \u001b[38;5;28;01mimport\u001b[39;00m axes, _docstring\n\u001b[1;32m     56\u001b[0m \u001b[38;5;28;01mfrom\u001b[39;00m \u001b[38;5;21;01m.\u001b[39;00m\u001b[38;5;21;01mgeo\u001b[39;00m \u001b[38;5;28;01mimport\u001b[39;00m AitoffAxes, HammerAxes, LambertAxes, MollweideAxes\n\u001b[1;32m     57\u001b[0m \u001b[38;5;28;01mfrom\u001b[39;00m \u001b[38;5;21;01m.\u001b[39;00m\u001b[38;5;21;01mpolar\u001b[39;00m \u001b[38;5;28;01mimport\u001b[39;00m PolarAxes\n",
      "File \u001b[0;32m~/Dropbox/work/brown/asian_elderly/analysis/venv/lib/python3.11/site-packages/matplotlib/axes/__init__.py:2\u001b[0m\n\u001b[1;32m      1\u001b[0m \u001b[38;5;28;01mfrom\u001b[39;00m \u001b[38;5;21;01m.\u001b[39;00m \u001b[38;5;28;01mimport\u001b[39;00m _base\n\u001b[0;32m----> 2\u001b[0m \u001b[38;5;28;01mfrom\u001b[39;00m \u001b[38;5;21;01m.\u001b[39;00m\u001b[38;5;21;01m_axes\u001b[39;00m \u001b[38;5;28;01mimport\u001b[39;00m \u001b[38;5;241m*\u001b[39m\n\u001b[1;32m      4\u001b[0m \u001b[38;5;66;03m# Backcompat.\u001b[39;00m\n\u001b[1;32m      5\u001b[0m \u001b[38;5;28;01mfrom\u001b[39;00m \u001b[38;5;21;01m.\u001b[39;00m\u001b[38;5;21;01m_axes\u001b[39;00m \u001b[38;5;28;01mimport\u001b[39;00m Axes \u001b[38;5;28;01mas\u001b[39;00m Subplot\n",
      "File \u001b[0;32m~/Dropbox/work/brown/asian_elderly/analysis/venv/lib/python3.11/site-packages/matplotlib/axes/_axes.py:21\u001b[0m\n\u001b[1;32m     19\u001b[0m \u001b[38;5;28;01mimport\u001b[39;00m \u001b[38;5;21;01mmatplotlib\u001b[39;00m\u001b[38;5;21;01m.\u001b[39;00m\u001b[38;5;21;01mlines\u001b[39;00m \u001b[38;5;28;01mas\u001b[39;00m \u001b[38;5;21;01mmlines\u001b[39;00m\n\u001b[1;32m     20\u001b[0m \u001b[38;5;28;01mimport\u001b[39;00m \u001b[38;5;21;01mmatplotlib\u001b[39;00m\u001b[38;5;21;01m.\u001b[39;00m\u001b[38;5;21;01mmarkers\u001b[39;00m \u001b[38;5;28;01mas\u001b[39;00m \u001b[38;5;21;01mmmarkers\u001b[39;00m\n\u001b[0;32m---> 21\u001b[0m \u001b[38;5;28;01mimport\u001b[39;00m \u001b[38;5;21;01mmatplotlib\u001b[39;00m\u001b[38;5;21;01m.\u001b[39;00m\u001b[38;5;21;01mmlab\u001b[39;00m \u001b[38;5;28;01mas\u001b[39;00m \u001b[38;5;21;01mmlab\u001b[39;00m\n\u001b[1;32m     22\u001b[0m \u001b[38;5;28;01mimport\u001b[39;00m \u001b[38;5;21;01mmatplotlib\u001b[39;00m\u001b[38;5;21;01m.\u001b[39;00m\u001b[38;5;21;01mpatches\u001b[39;00m \u001b[38;5;28;01mas\u001b[39;00m \u001b[38;5;21;01mmpatches\u001b[39;00m\n\u001b[1;32m     23\u001b[0m \u001b[38;5;28;01mimport\u001b[39;00m \u001b[38;5;21;01mmatplotlib\u001b[39;00m\u001b[38;5;21;01m.\u001b[39;00m\u001b[38;5;21;01mpath\u001b[39;00m \u001b[38;5;28;01mas\u001b[39;00m \u001b[38;5;21;01mmpath\u001b[39;00m\n",
      "File \u001b[0;32m<frozen importlib._bootstrap>:1178\u001b[0m, in \u001b[0;36m_find_and_load\u001b[0;34m(name, import_)\u001b[0m\n",
      "File \u001b[0;32m<frozen importlib._bootstrap>:1149\u001b[0m, in \u001b[0;36m_find_and_load_unlocked\u001b[0;34m(name, import_)\u001b[0m\n",
      "File \u001b[0;32m<frozen importlib._bootstrap>:690\u001b[0m, in \u001b[0;36m_load_unlocked\u001b[0;34m(spec)\u001b[0m\n",
      "File \u001b[0;32m<frozen importlib._bootstrap_external>:936\u001b[0m, in \u001b[0;36mexec_module\u001b[0;34m(self, module)\u001b[0m\n",
      "File \u001b[0;32m<frozen importlib._bootstrap_external>:1069\u001b[0m, in \u001b[0;36mget_code\u001b[0;34m(self, fullname)\u001b[0m\n",
      "File \u001b[0;32m<frozen importlib._bootstrap_external>:729\u001b[0m, in \u001b[0;36m_compile_bytecode\u001b[0;34m(data, name, bytecode_path, source_path)\u001b[0m\n",
      "\u001b[0;31mKeyboardInterrupt\u001b[0m: "
     ]
    }
   ],
   "source": [
    "import pandas as pd\n",
    "from googletrans import Translator\n",
    "\n",
    "import datetime\n",
    "import spacy\n",
    "import matplotlib.pyplot as plt"
   ]
  },
  {
   "cell_type": "code",
   "execution_count": null,
   "id": "95271115",
   "metadata": {},
   "outputs": [],
   "source": [
    "pd.set_option('display.max_colwidth', None)"
   ]
  },
  {
   "cell_type": "code",
   "execution_count": null,
   "id": "d132a5dc",
   "metadata": {},
   "outputs": [],
   "source": [
    "watch_history = pd.read_csv(\n",
    "    \"../output/watch_history.csv\",\n",
    "    parse_dates = [\"date_recorded\"]\n",
    ")\n",
    "watch_history.head()"
   ]
  },
  {
   "cell_type": "code",
   "execution_count": null,
   "id": "6d578392",
   "metadata": {},
   "outputs": [],
   "source": [
    "search_history = pd.read_csv(\n",
    "    \"../output/search_history.csv\",\n",
    "    parse_dates = [\"date_recorded\"]\n",
    ")\n",
    "\n",
    "\n",
    "search_history.head()"
   ]
  },
  {
   "cell_type": "code",
   "execution_count": null,
   "id": "d6bd1555",
   "metadata": {},
   "outputs": [],
   "source": [
    "watch_history.columns"
   ]
  },
  {
   "cell_type": "markdown",
   "id": "4620e22f",
   "metadata": {},
   "source": [
    "# GOOGLE TRANSLATE HERE FOR BOTH"
   ]
  },
  {
   "cell_type": "code",
   "execution_count": null,
   "id": "33e59afb",
   "metadata": {},
   "outputs": [],
   "source": [
    "translator = Translator()"
   ]
  },
  {
   "cell_type": "code",
   "execution_count": null,
   "id": "b69272c4",
   "metadata": {},
   "outputs": [],
   "source": [
    "# translator.translate('안녕하세요.')"
   ]
  },
  {
   "cell_type": "code",
   "execution_count": null,
   "id": "528ecf48",
   "metadata": {},
   "outputs": [],
   "source": [
    "#Make new column with translations for both columns"
   ]
  },
  {
   "cell_type": "code",
   "execution_count": null,
   "id": "48c79fdf",
   "metadata": {},
   "outputs": [],
   "source": []
  },
  {
   "cell_type": "code",
   "execution_count": null,
   "id": "12ffac6a",
   "metadata": {},
   "outputs": [],
   "source": []
  },
  {
   "cell_type": "markdown",
   "id": "a6cdd64f",
   "metadata": {},
   "source": [
    "## Analyses\n",
    "\n",
    "\n",
    "#### First prepare the data:\n",
    "- cut off dates starting 2020\n",
    "- separate ads from views\n",
    "\n",
    "#### Then produce analyses:\n",
    "\n",
    "Overall findings:\n",
    "- Totals\n",
    "- Ads vs watched things\n",
    "- searched terms vs watched vs other\n",
    "- searched terms (list)\n",
    "    \n",
    "Specific to Google Ads:\n",
    "- repeat videos\n",
    "- NLP, such as words most often used\n",
    "- Time-related trends\n",
    "\n",
    "Specific to non-ad views:\n",
    "- Time related trends\n",
    "- repeat videos\n",
    "- NLP, such as words most often used\n",
    "- Time-related trends\n",
    "\n",
    "\n"
   ]
  },
  {
   "cell_type": "code",
   "execution_count": null,
   "id": "c6062368",
   "metadata": {},
   "outputs": [],
   "source": [
    "watch_history_sm = watch_history[watch_history[\"date_recorded\"].apply(lambda x: x.year) >= 2020]\n",
    "search_history_sm = search_history[search_history[\"date_recorded\"].apply(lambda x: x.year) >= 2020]\n",
    "watch_history_sm_no_ads = watch_history_sm[watch_history_sm[\"meta_data_details\"]!= \"\\u2003From Google Ads\"]\n",
    "watch_history_ads_only = watch_history_sm[watch_history_sm[\"meta_data_details\"]== \"\\u2003From Google Ads\"]\n",
    "search_history_ads_only = search_history_sm[search_history_sm[\"meta_data_details\"]== \"\\u2003From Google Ads\"]\n",
    "search_history_sm_no_ads = search_history_sm[search_history_sm[\"meta_data_details\"]!= \"\\u2003From Google Ads\"]"
   ]
  },
  {
   "cell_type": "code",
   "execution_count": null,
   "id": "4b6e9734",
   "metadata": {},
   "outputs": [],
   "source": [
    "search_history_sm.head(1)"
   ]
  },
  {
   "cell_type": "code",
   "execution_count": null,
   "id": "a25d4919",
   "metadata": {},
   "outputs": [],
   "source": [
    "search_history_sm[\"meta_data_details\"][0]"
   ]
  },
  {
   "cell_type": "code",
   "execution_count": null,
   "id": "277216e0",
   "metadata": {},
   "outputs": [],
   "source": [
    "len(watch_history_ads_only)"
   ]
  },
  {
   "cell_type": "markdown",
   "id": "2463fe38",
   "metadata": {},
   "source": [
    "#### Ads vs watched things"
   ]
  },
  {
   "cell_type": "code",
   "execution_count": null,
   "id": "ce9e48a3",
   "metadata": {},
   "outputs": [],
   "source": [
    "watch_history[\"meta_data_details\"].value_counts().reset_index()[\"count\"]/len(watch_history)*100"
   ]
  },
  {
   "cell_type": "markdown",
   "id": "933dd739",
   "metadata": {},
   "source": [
    "#### Searched terms vs watched vs other"
   ]
  },
  {
   "cell_type": "code",
   "execution_count": null,
   "id": "22b776ca",
   "metadata": {},
   "outputs": [],
   "source": [
    "search_history_sm[\"content_type\"].value_counts()"
   ]
  },
  {
   "cell_type": "markdown",
   "id": "5180b368",
   "metadata": {},
   "source": [
    "#### Searched terms (list)"
   ]
  },
  {
   "cell_type": "code",
   "execution_count": null,
   "id": "2aa8afae",
   "metadata": {},
   "outputs": [],
   "source": [
    "search_history_sm[\"content_type\"][5859]"
   ]
  },
  {
   "cell_type": "code",
   "execution_count": null,
   "id": "cc643772",
   "metadata": {},
   "outputs": [],
   "source": [
    "search_terms = search_history_sm[search_history_sm[\"content_type\"] == \"Searched for\\xa0\"]"
   ]
  },
  {
   "cell_type": "code",
   "execution_count": null,
   "id": "0f7b756f",
   "metadata": {},
   "outputs": [],
   "source": [
    "search_terms.head(1)"
   ]
  },
  {
   "cell_type": "code",
   "execution_count": null,
   "id": "1a8def51",
   "metadata": {},
   "outputs": [],
   "source": []
  },
  {
   "cell_type": "code",
   "execution_count": null,
   "id": "16f0c409",
   "metadata": {},
   "outputs": [],
   "source": [
    "search_terms.to_csv(\"../output/search_terms_only.csv\", index=False)"
   ]
  },
  {
   "cell_type": "code",
   "execution_count": null,
   "id": "376ed09a",
   "metadata": {},
   "outputs": [],
   "source": [
    "search_terms_daily_tallies = search_terms.set_index(\"date_recorded\").resample(\"D\")[\"video_title\"].count()"
   ]
  },
  {
   "cell_type": "code",
   "execution_count": null,
   "id": "4e701578",
   "metadata": {},
   "outputs": [],
   "source": [
    "search_terms_daily_tallies"
   ]
  },
  {
   "cell_type": "code",
   "execution_count": null,
   "id": "00214d48",
   "metadata": {},
   "outputs": [],
   "source": [
    "search_terms_daily_tallies.to_csv(\"../output/search_terms_daily_tallies.csv\")"
   ]
  },
  {
   "cell_type": "code",
   "execution_count": null,
   "id": "b478a344",
   "metadata": {},
   "outputs": [],
   "source": [
    "search_terms_tallies.plot()"
   ]
  },
  {
   "cell_type": "markdown",
   "id": "30cb601a",
   "metadata": {},
   "source": [
    "#### Specific to Google Ads:\n",
    "- repeat videos\n",
    "- NLP, such as words most often used\n",
    "- Time-related trends"
   ]
  },
  {
   "cell_type": "code",
   "execution_count": null,
   "id": "76fa516d",
   "metadata": {},
   "outputs": [],
   "source": [
    "most_watched_ads = watch_history_ads_only.groupby([\"video_title\", \"link\" ]).agg({\n",
    "    \"file\":\"count\"\n",
    "}).reset_index(\n",
    ").sort_values(\n",
    "    by=[\"file\"],\n",
    "    ascending=False\n",
    ")\n",
    "\n",
    "most_watched_ads.head(10)"
   ]
  },
  {
   "cell_type": "code",
   "execution_count": null,
   "id": "53ae0f0a",
   "metadata": {},
   "outputs": [],
   "source": [
    "most_watched_ads.to_csv(\"../output/most_watched_ads.csv\", index=False)"
   ]
  },
  {
   "cell_type": "code",
   "execution_count": null,
   "id": "f9603456",
   "metadata": {},
   "outputs": [],
   "source": [
    "watch_history_ads_only.to_csv(\"../output/watch_history_ads_only.csv\", index=False)\n",
    "\n",
    "print(\n",
    "    len(watch_history_ads_only),\n",
    "    len(most_watched_ads)\n",
    ")"
   ]
  },
  {
   "cell_type": "markdown",
   "id": "7477063d",
   "metadata": {},
   "source": [
    "# Do NLP analyses here"
   ]
  },
  {
   "cell_type": "code",
   "execution_count": null,
   "id": "6b1f10a7",
   "metadata": {},
   "outputs": [],
   "source": []
  },
  {
   "cell_type": "code",
   "execution_count": null,
   "id": "5d668a92",
   "metadata": {},
   "outputs": [],
   "source": []
  },
  {
   "cell_type": "code",
   "execution_count": null,
   "id": "9dd83f9b",
   "metadata": {},
   "outputs": [],
   "source": []
  },
  {
   "cell_type": "markdown",
   "id": "57655af1",
   "metadata": {},
   "source": [
    "#### Time related trends"
   ]
  },
  {
   "cell_type": "code",
   "execution_count": null,
   "id": "1862fb7f",
   "metadata": {},
   "outputs": [],
   "source": [
    "watch_history_ads_only_daily_tallies = watch_history_ads_only.set_index(\"date_recorded\").resample(\"D\")[\"video_title\"].count()"
   ]
  },
  {
   "cell_type": "code",
   "execution_count": null,
   "id": "b1dc0f38",
   "metadata": {},
   "outputs": [],
   "source": [
    "watch_history_ads_only_daily_tallies "
   ]
  },
  {
   "cell_type": "code",
   "execution_count": null,
   "id": "9265bb54",
   "metadata": {},
   "outputs": [],
   "source": [
    "watch_history_ads_only_daily_tallies.to_csv(\"../output/watch_history_ads_only_daily_tallies.csv\")"
   ]
  },
  {
   "cell_type": "code",
   "execution_count": null,
   "id": "2ec1381d",
   "metadata": {},
   "outputs": [],
   "source": [
    "watch_history_ads_onlyhourly_tallies = watch_history_ads_only.set_index(\"date_recorded\").resample(\"H\")[\"video_title\"].count()"
   ]
  },
  {
   "cell_type": "code",
   "execution_count": null,
   "id": "f81b77f0",
   "metadata": {},
   "outputs": [],
   "source": [
    "watch_history_ads_onlyhourly_tallies"
   ]
  },
  {
   "cell_type": "markdown",
   "id": "8d1f4a8c",
   "metadata": {},
   "source": [
    "#### Specific to non-ad views:\n",
    "\n",
    "- repeat videos\n",
    "- NLP, such as words most often used\n",
    "- Time-related trends"
   ]
  },
  {
   "cell_type": "code",
   "execution_count": null,
   "id": "f375dd40",
   "metadata": {},
   "outputs": [],
   "source": [
    "watch_history_sm_no_ads.head(1)"
   ]
  },
  {
   "cell_type": "code",
   "execution_count": null,
   "id": "3c7fdf7f",
   "metadata": {},
   "outputs": [],
   "source": [
    "watch_history_sm_no_ads_tallies = watch_history_sm_no_ads.groupby([\"video_title\", \"link\" ]).agg({\n",
    "    \"file\":\"count\"\n",
    "}).reset_index(\n",
    ").sort_values(\n",
    "    by=[\"file\"],\n",
    "    ascending=False\n",
    ")\n",
    "\n",
    "watch_history_sm_no_ads_tallies.head()"
   ]
  },
  {
   "cell_type": "code",
   "execution_count": null,
   "id": "1914b277",
   "metadata": {},
   "outputs": [],
   "source": []
  },
  {
   "cell_type": "code",
   "execution_count": null,
   "id": "6c6d7f00",
   "metadata": {},
   "outputs": [],
   "source": [
    "watch_history_sm_no_ads_tallies.to_csv(\"../output/most_watched_videos.csv\", index=False)"
   ]
  },
  {
   "cell_type": "code",
   "execution_count": null,
   "id": "4ac720d5",
   "metadata": {},
   "outputs": [],
   "source": [
    "watch_history_sm_no_ads_tallies.plot()"
   ]
  },
  {
   "cell_type": "code",
   "execution_count": null,
   "id": "895315fb",
   "metadata": {},
   "outputs": [],
   "source": []
  }
 ],
 "metadata": {
  "kernelspec": {
   "display_name": "Python 3 (ipykernel)",
   "language": "python",
   "name": "python3"
  },
  "language_info": {
   "codemirror_mode": {
    "name": "ipython",
    "version": 3
   },
   "file_extension": ".py",
   "mimetype": "text/x-python",
   "name": "python",
   "nbconvert_exporter": "python",
   "pygments_lexer": "ipython3",
   "version": "3.11.2"
  }
 },
 "nbformat": 4,
 "nbformat_minor": 5
}
