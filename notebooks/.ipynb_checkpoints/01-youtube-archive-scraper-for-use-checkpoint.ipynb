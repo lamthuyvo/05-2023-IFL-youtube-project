{
 "cells": [
  {
   "cell_type": "markdown",
   "id": "956df6b0",
   "metadata": {},
   "source": [
    "### YouTube archive data extraction\n"
   ]
  },
  {
   "cell_type": "code",
   "execution_count": 3,
   "id": "42928289",
   "metadata": {},
   "outputs": [],
   "source": [
    "# —————— libraries built into Python ———————\n",
    "\n",
    "import json # to read json formatted data\n",
    "import csv # to write and read csv\n",
    "import time # to build in wait time for loops\n",
    "import glob # to access file paths\n",
    "\n",
    "# —————— libraries that need to be installed, which you can do via pip ———————\n",
    "\n",
    "from bs4 import BeautifulSoup # to parse HTML, documentation: https://www.crummy.com/software/BeautifulSoup/bs4/doc/\n",
    "import pandas as pd # to use pandas to process data\n"
   ]
  },
  {
   "cell_type": "code",
   "execution_count": 4,
   "id": "cbb7f763",
   "metadata": {},
   "outputs": [],
   "source": [
    "links=[\n",
    "    \"../data/youtube-archive/YouTube and YouTube Music/history/search-history.html\", \n",
    "    \"../data/youtube-archive/YouTube and YouTube Music/history/watch-history.html\"\n",
    "]"
   ]
  },
  {
   "cell_type": "code",
   "execution_count": 12,
   "id": "538f6aa5",
   "metadata": {},
   "outputs": [
    {
     "data": {
      "text/plain": [
       "b'h\\xc3\\xa3y s\\xe1\\xbb\\x91ng v\\xe1\\xbb\\x9bi t\\xc3\\xacnh y\\xc3\\xaau'"
      ]
     },
     "execution_count": 12,
     "metadata": {},
     "output_type": "execute_result"
    }
   ],
   "source": [
    "contentlist[18].find(\"a\").text"
   ]
  },
  {
   "cell_type": "code",
   "execution_count": 14,
   "id": "84117e08",
   "metadata": {},
   "outputs": [],
   "source": [
    "%%time\n",
    "with open(\"../data/Takeout 2/YouTube and YouTube Music/history/search-history.html\") as page:\n",
    "    rows=[]\n",
    "    soup = BeautifulSoup(page,  \"html.parser\")\n",
    "    contents = soup.find(\"body\")\n",
    "    contentlist = contents.find_all( \"div\" , class_=\"outer-cell\")\n",
    "    for content_item in contentlist:\n",
    "        content_cell = content_item.find_all(\"div\" , class_=\"content-cell\")\n",
    "\n",
    "        video_title = content_cell[0].find(\"a\").text if content_cell[0].find(\"a\") != None else \"\"\n",
    "        link = content_cell[0].find(\"a\")[\"href\"]\n",
    "        content_type = content_cell[0].find(\"a\").previous_sibling\n",
    "        date_recorded =  content_cell[0].find_all(\"br\")[-1].next_sibling\n",
    "        meta_data_products = content_cell[-1].find_all(\"br\")[0].next_sibling if content_cell[-1].find_all(\"br\") != None else \"\"\n",
    "        \n",
    "        if \"Details\" in str(content_cell[-1].find_all(\"b\")[1]):\n",
    "            meta_data_details = content_cell[-1].find_all(\"b\")[1].next_sibling.next_sibling\n",
    "        else:\n",
    "            meta_data_details = None\n",
    "        content_text_full = content_cell[0].text if content_cell[0] != None else \"\"\n",
    "        meta_data_full = content_cell[-1].text if content_cell[-1] != None else \"\"\n",
    "\n",
    "        row ={\n",
    "            \"video_title\": video_title,\n",
    "            \"link\": link,\n",
    "            \"content_type\": content_type,\n",
    "            \"date_recorded\": date_recorded,\n",
    "            \"meta_data_products\": meta_data_products,\n",
    "            \"meta_data_details\": meta_data_details,\n",
    "            \"content_text_full\": content_text_full,\n",
    "            \"meta_data_full\": meta_data_full,\n",
    "            \"file\": \"../data/Takeout 2/YouTube and YouTube Music/history/search-history.html\".split(\"/\")[-1]\n",
    "        }\n",
    "\n",
    "        rows.append(row)"
   ]
  },
  {
   "cell_type": "code",
   "execution_count": 15,
   "id": "9cb5a772",
   "metadata": {},
   "outputs": [
    {
     "data": {
      "text/plain": [
       "'\\u2003This activity was saved to your Google Account because the following settings were on:\\xa0YouTube search history.\\xa0You can control these settings \\xa0'"
      ]
     },
     "execution_count": 15,
     "metadata": {},
     "output_type": "execute_result"
    }
   ],
   "source": [
    "content_cell[-1].find_all(\"b\")[1].next_sibling.next_sibling"
   ]
  },
  {
   "cell_type": "code",
   "execution_count": 16,
   "id": "fb6be005",
   "metadata": {},
   "outputs": [
    {
     "data": {
      "text/plain": [
       "<a href=\"https://www.youtube.com/results?search_query=insane+by+loving+caliber\">insane by loving caliber</a>"
      ]
     },
     "execution_count": 16,
     "metadata": {},
     "output_type": "execute_result"
    }
   ],
   "source": [
    "content_cell[0].find(\"a\")"
   ]
  },
  {
   "cell_type": "code",
   "execution_count": 17,
   "id": "4bb86c31",
   "metadata": {},
   "outputs": [
    {
     "data": {
      "text/plain": [
       "True"
      ]
     },
     "execution_count": 17,
     "metadata": {},
     "output_type": "execute_result"
    }
   ],
   "source": [
    "\"Details\" in str(contentlist[0].find_all(\"div\" , class_=\"content-cell\")[-1].find_all(\"b\")[1])"
   ]
  },
  {
   "cell_type": "code",
   "execution_count": 18,
   "id": "a8863c60",
   "metadata": {},
   "outputs": [
    {
     "data": {
      "text/plain": [
       "'Searched for'"
      ]
     },
     "execution_count": 18,
     "metadata": {},
     "output_type": "execute_result"
    }
   ],
   "source": [
    "content_cell[0].find(\"a\").previous_sibling.encode('ascii', 'ignore').decode('UTF-8')"
   ]
  },
  {
   "cell_type": "code",
   "execution_count": null,
   "id": "c75d1d84",
   "metadata": {},
   "outputs": [],
   "source": [
    "rows"
   ]
  },
  {
   "cell_type": "code",
   "execution_count": null,
   "id": "1339c5f1",
   "metadata": {},
   "outputs": [
    {
     "data": {
      "text/html": [
       "<div>\n",
       "<style scoped>\n",
       "    .dataframe tbody tr th:only-of-type {\n",
       "        vertical-align: middle;\n",
       "    }\n",
       "\n",
       "    .dataframe tbody tr th {\n",
       "        vertical-align: top;\n",
       "    }\n",
       "\n",
       "    .dataframe thead th {\n",
       "        text-align: right;\n",
       "    }\n",
       "</style>\n",
       "<table border=\"1\" class=\"dataframe\">\n",
       "  <thead>\n",
       "    <tr style=\"text-align: right;\">\n",
       "      <th></th>\n",
       "      <th>video_title</th>\n",
       "      <th>link</th>\n",
       "      <th>content_type</th>\n",
       "      <th>date_recorded</th>\n",
       "      <th>meta_data_products</th>\n",
       "      <th>meta_data_details</th>\n",
       "      <th>content_text_full</th>\n",
       "      <th>meta_data_full</th>\n",
       "      <th>file</th>\n",
       "    </tr>\n",
       "  </thead>\n",
       "  <tbody>\n",
       "    <tr>\n",
       "      <th>0</th>\n",
       "      <td>EN 1920x1080 ABC LingoCamp Full Voiceovers</td>\n",
       "      <td>https://www.youtube.com/watch?v=4GonbX52uIk</td>\n",
       "      <td>Watched</td>\n",
       "      <td>Mar 21, 2023, 6:38:06 PM PDT</td>\n",
       "      <td>YouTube</td>\n",
       "      <td>From Google Ads</td>\n",
       "      <td>Watched EN 1920x1080 ABC LingoCamp Full Voiceo...</td>\n",
       "      <td>Products: YouTubeDetails: From Google AdsWhy i...</td>\n",
       "      <td>search-history.html</td>\n",
       "    </tr>\n",
       "    <tr>\n",
       "      <th>1</th>\n",
       "      <td>Peace of Mind | A Thousand Things | Sutter Health</td>\n",
       "      <td>https://www.youtube.com/watch?v=y1BwiwC9M3o</td>\n",
       "      <td>Watched</td>\n",
       "      <td>Mar 21, 2023, 6:37:50 PM PDT</td>\n",
       "      <td>YouTube</td>\n",
       "      <td>From Google Ads</td>\n",
       "      <td>Watched Peace of Mind | A Thousand Things | Su...</td>\n",
       "      <td>Products: YouTubeDetails: From Google AdsWhy i...</td>\n",
       "      <td>search-history.html</td>\n",
       "    </tr>\n",
       "    <tr>\n",
       "      <th>2</th>\n",
       "      <td>2022 GLP-1 Rybelsus US22RYB00136 RYB Record St...</td>\n",
       "      <td>https://www.youtube.com/watch?v=e12L3ryhelY</td>\n",
       "      <td>Watched</td>\n",
       "      <td>Mar 21, 2023, 6:16:17 PM PDT</td>\n",
       "      <td>YouTube</td>\n",
       "      <td>From Google Ads</td>\n",
       "      <td>Watched 2022 GLP-1 Rybelsus US22RYB00136 RYB R...</td>\n",
       "      <td>Products: YouTubeDetails: From Google AdsWhy i...</td>\n",
       "      <td>search-history.html</td>\n",
       "    </tr>\n",
       "    <tr>\n",
       "      <th>3</th>\n",
       "      <td>23 Video SelectBlinds OTT Bumper V2 FNL</td>\n",
       "      <td>https://www.youtube.com/watch?v=XZQcOOBEb_0</td>\n",
       "      <td>Watched</td>\n",
       "      <td>Mar 21, 2023, 6:16:11 PM PDT</td>\n",
       "      <td>YouTube</td>\n",
       "      <td>From Google Ads</td>\n",
       "      <td>Watched 23 Video SelectBlinds OTT Bumper V2 FN...</td>\n",
       "      <td>Products: YouTubeDetails: From Google AdsWhy i...</td>\n",
       "      <td>search-history.html</td>\n",
       "    </tr>\n",
       "    <tr>\n",
       "      <th>4</th>\n",
       "      <td>NXT22001 1B PC 15secCAPTIONED 9x16 PAC V2</td>\n",
       "      <td>https://www.youtube.com/watch?v=V8rPSNSIkkI</td>\n",
       "      <td>Watched</td>\n",
       "      <td>Mar 20, 2023, 10:14:14 PM PDT</td>\n",
       "      <td>YouTube</td>\n",
       "      <td>From Google Ads</td>\n",
       "      <td>Watched NXT22001 1B PC 15secCAPTIONED 9x16 PAC...</td>\n",
       "      <td>Products: YouTubeDetails: From Google AdsWhy i...</td>\n",
       "      <td>search-history.html</td>\n",
       "    </tr>\n",
       "  </tbody>\n",
       "</table>\n",
       "</div>"
      ],
      "text/plain": [
       "                                         video_title   \n",
       "0         EN 1920x1080 ABC LingoCamp Full Voiceovers  \\\n",
       "1  Peace of Mind | A Thousand Things | Sutter Health   \n",
       "2  2022 GLP-1 Rybelsus US22RYB00136 RYB Record St...   \n",
       "3            23 Video SelectBlinds OTT Bumper V2 FNL   \n",
       "4          NXT22001 1B PC 15secCAPTIONED 9x16 PAC V2   \n",
       "\n",
       "                                          link content_type   \n",
       "0  https://www.youtube.com/watch?v=4GonbX52uIk     Watched   \\\n",
       "1  https://www.youtube.com/watch?v=y1BwiwC9M3o     Watched    \n",
       "2  https://www.youtube.com/watch?v=e12L3ryhelY     Watched    \n",
       "3  https://www.youtube.com/watch?v=XZQcOOBEb_0     Watched    \n",
       "4  https://www.youtube.com/watch?v=V8rPSNSIkkI     Watched    \n",
       "\n",
       "                   date_recorded meta_data_products meta_data_details   \n",
       "0   Mar 21, 2023, 6:38:06 PM PDT            YouTube   From Google Ads  \\\n",
       "1   Mar 21, 2023, 6:37:50 PM PDT            YouTube   From Google Ads   \n",
       "2   Mar 21, 2023, 6:16:17 PM PDT            YouTube   From Google Ads   \n",
       "3   Mar 21, 2023, 6:16:11 PM PDT            YouTube   From Google Ads   \n",
       "4  Mar 20, 2023, 10:14:14 PM PDT            YouTube   From Google Ads   \n",
       "\n",
       "                                   content_text_full   \n",
       "0  Watched EN 1920x1080 ABC LingoCamp Full Voiceo...  \\\n",
       "1  Watched Peace of Mind | A Thousand Things | Su...   \n",
       "2  Watched 2022 GLP-1 Rybelsus US22RYB00136 RYB R...   \n",
       "3  Watched 23 Video SelectBlinds OTT Bumper V2 FN...   \n",
       "4  Watched NXT22001 1B PC 15secCAPTIONED 9x16 PAC...   \n",
       "\n",
       "                                      meta_data_full                 file  \n",
       "0  Products: YouTubeDetails: From Google AdsWhy i...  search-history.html  \n",
       "1  Products: YouTubeDetails: From Google AdsWhy i...  search-history.html  \n",
       "2  Products: YouTubeDetails: From Google AdsWhy i...  search-history.html  \n",
       "3  Products: YouTubeDetails: From Google AdsWhy i...  search-history.html  \n",
       "4  Products: YouTubeDetails: From Google AdsWhy i...  search-history.html  "
      ]
     },
     "execution_count": 20,
     "metadata": {},
     "output_type": "execute_result"
    }
   ],
   "source": [
    "search_history = pd.DataFrame(rows)\n",
    "search_history.head()"
   ]
  },
  {
   "cell_type": "code",
   "execution_count": 21,
   "id": "cc67c301",
   "metadata": {},
   "outputs": [],
   "source": [
    "search_history.to_csv(\"../output/search_history.csv\", encoding='utf-8', index =False)"
   ]
  },
  {
   "cell_type": "code",
   "execution_count": 22,
   "id": "94082920",
   "metadata": {},
   "outputs": [
    {
     "data": {
      "text/plain": [
       "5954"
      ]
     },
     "execution_count": 22,
     "metadata": {},
     "output_type": "execute_result"
    }
   ],
   "source": [
    "len(search_history)"
   ]
  },
  {
   "cell_type": "code",
   "execution_count": 23,
   "id": "82666f14",
   "metadata": {},
   "outputs": [
    {
     "data": {
      "text/plain": [
       "meta_data_details\n",
       " From Google Ads    5789\n",
       "Name: count, dtype: int64"
      ]
     },
     "execution_count": 23,
     "metadata": {},
     "output_type": "execute_result"
    }
   ],
   "source": [
    "search_history[\"meta_data_details\"].value_counts()"
   ]
  },
  {
   "cell_type": "code",
   "execution_count": 24,
   "id": "12aadd1d",
   "metadata": {},
   "outputs": [
    {
     "data": {
      "text/plain": [
       "content_type\n",
       "Watched          5562\n",
       "Visited           227\n",
       "Searched for      165\n",
       "Name: count, dtype: int64"
      ]
     },
     "execution_count": 24,
     "metadata": {},
     "output_type": "execute_result"
    }
   ],
   "source": [
    "search_history[\"content_type\"].value_counts()"
   ]
  },
  {
   "cell_type": "markdown",
   "id": "256e22cf",
   "metadata": {},
   "source": [
    "### Second scraper"
   ]
  },
  {
   "cell_type": "code",
   "execution_count": 25,
   "id": "36382b32",
   "metadata": {},
   "outputs": [
    {
     "name": "stdout",
     "output_type": "stream",
     "text": [
      "CPU times: user 11min 38s, sys: 8.45 s, total: 11min 47s\n",
      "Wall time: 13min 14s\n"
     ]
    }
   ],
   "source": [
    "%%time\n",
    "with open(\"../data/Takeout 2/YouTube and YouTube Music/history/watch-history.html\") as page:\n",
    "    rows=[]\n",
    "    soup = BeautifulSoup(page,  \"html.parser\")\n",
    "    contents = soup.find(\"body\")\n",
    "    contentlist = contents.find_all( \"div\" , class_=\"outer-cell\")\n",
    "    for content_item in contentlist:\n",
    "        content_cell = content_item.find_all(\"div\" , class_=\"content-cell\")\n",
    "\n",
    "        video_title = content_cell[0].find(\"a\").text if content_cell[0].find(\"a\") != None else \"\"\n",
    "        link = content_cell[0].find(\"a\")[\"href\"] if content_cell[0].find(\"a\") != None else \"\"\n",
    "        content_type = content_cell[0].find(\"a\").previous_sibling  if content_cell[0].find(\"a\") != None else \"\"\n",
    "        date_recorded =  content_cell[0].find_all(\"br\")[-1].next_sibling\n",
    "        meta_data_products = content_cell[-1].find_all(\"br\")[0].next_sibling if content_cell[-1].find_all(\"br\") != None else \"\"\n",
    "        \n",
    "        if \"Details\" in str(content_cell[-1].find_all(\"b\")[1]):\n",
    "            meta_data_details = content_cell[-1].find_all(\"b\")[1].next_sibling.next_sibling\n",
    "        else:\n",
    "            meta_data_details = None\n",
    "        content_text_full = content_cell[0].text if content_cell[0] != None else \"\"\n",
    "        meta_data_full = content_cell[-1].text if content_cell[-1] != None else \"\"\n",
    "\n",
    "        row ={\n",
    "            \"video_title\": video_title,\n",
    "            \"link\": link,\n",
    "            \"date_recorded\": date_recorded,\n",
    "            \"meta_data_products\": meta_data_products,\n",
    "            \"meta_data_details\": meta_data_details,\n",
    "            \"content_text_full\": content_text_full,\n",
    "            \"meta_data_full\": meta_data_full,\n",
    "            \"file\": \"../data/Takeout 2/YouTube and YouTube Music/history/search-history.html\".split(\"/\")[-1]\n",
    "        }\n",
    "\n",
    "        rows.append(row)"
   ]
  },
  {
   "cell_type": "code",
   "execution_count": 26,
   "id": "0a8c1838",
   "metadata": {},
   "outputs": [
    {
     "data": {
      "text/html": [
       "<div>\n",
       "<style scoped>\n",
       "    .dataframe tbody tr th:only-of-type {\n",
       "        vertical-align: middle;\n",
       "    }\n",
       "\n",
       "    .dataframe tbody tr th {\n",
       "        vertical-align: top;\n",
       "    }\n",
       "\n",
       "    .dataframe thead th {\n",
       "        text-align: right;\n",
       "    }\n",
       "</style>\n",
       "<table border=\"1\" class=\"dataframe\">\n",
       "  <thead>\n",
       "    <tr style=\"text-align: right;\">\n",
       "      <th></th>\n",
       "      <th>video_title</th>\n",
       "      <th>link</th>\n",
       "      <th>date_recorded</th>\n",
       "      <th>meta_data_products</th>\n",
       "      <th>meta_data_details</th>\n",
       "      <th>content_text_full</th>\n",
       "      <th>meta_data_full</th>\n",
       "      <th>file</th>\n",
       "    </tr>\n",
       "  </thead>\n",
       "  <tbody>\n",
       "    <tr>\n",
       "      <th>0</th>\n",
       "      <td>QUẢ BÁO: Phe dân chủ vờ đánh Trump để c...</td>\n",
       "      <td>https://www.youtube.com/watch?v=ESHlO51BO5Q</td>\n",
       "      <td>Mar 21, 2023, 6:44:29 PM PDT</td>\n",
       "      <td>YouTube</td>\n",
       "      <td>None</td>\n",
       "      <td>Watched QUẢ BÁO: Phe dân chủ vờ đánh Trum...</td>\n",
       "      <td>Products: YouTubeWhy is this here? This activi...</td>\n",
       "      <td>search-history.html</td>\n",
       "    </tr>\n",
       "    <tr>\n",
       "      <th>1</th>\n",
       "      <td>TIN MỚI 22/03/2023 TRAN MAICO ÔI XEM HAY và CH...</td>\n",
       "      <td>https://www.youtube.com/watch?v=hQwuLSR9qv0</td>\n",
       "      <td>Mar 21, 2023, 6:38:29 PM PDT</td>\n",
       "      <td>YouTube</td>\n",
       "      <td>None</td>\n",
       "      <td>Watched TIN MỚI 22/03/2023 TRAN MAICO ÔI XEM H...</td>\n",
       "      <td>Products: YouTubeWhy is this here? This activi...</td>\n",
       "      <td>search-history.html</td>\n",
       "    </tr>\n",
       "    <tr>\n",
       "      <th>2</th>\n",
       "      <td>EN 1920x1080 ABC LingoCamp Full Voiceovers</td>\n",
       "      <td>https://www.youtube.com/watch?v=4GonbX52uIk</td>\n",
       "      <td>Mar 21, 2023, 6:38:06 PM PDT</td>\n",
       "      <td>YouTube</td>\n",
       "      <td>From Google Ads</td>\n",
       "      <td>Watched EN 1920x1080 ABC LingoCamp Full Voiceo...</td>\n",
       "      <td>Products: YouTubeDetails: From Google AdsWhy i...</td>\n",
       "      <td>search-history.html</td>\n",
       "    </tr>\n",
       "    <tr>\n",
       "      <th>3</th>\n",
       "      <td>Peace of Mind | A Thousand Things | Sutter Health</td>\n",
       "      <td>https://www.youtube.com/watch?v=y1BwiwC9M3o</td>\n",
       "      <td>Mar 21, 2023, 6:37:50 PM PDT</td>\n",
       "      <td>YouTube</td>\n",
       "      <td>From Google Ads</td>\n",
       "      <td>Watched Peace of Mind | A Thousand Things | Su...</td>\n",
       "      <td>Products: YouTubeDetails: From Google AdsWhy i...</td>\n",
       "      <td>search-history.html</td>\n",
       "    </tr>\n",
       "    <tr>\n",
       "      <th>4</th>\n",
       "      <td>TIN MỚI 22/03/2023 sonia ohlala BÁO TIN CỰC VU...</td>\n",
       "      <td>https://www.youtube.com/watch?v=0zkr4WF1IGI</td>\n",
       "      <td>Mar 21, 2023, 6:26:00 PM PDT</td>\n",
       "      <td>YouTube</td>\n",
       "      <td>None</td>\n",
       "      <td>Watched TIN MỚI 22/03/2023 sonia ohlala BÁO TI...</td>\n",
       "      <td>Products: YouTubeWhy is this here? This activi...</td>\n",
       "      <td>search-history.html</td>\n",
       "    </tr>\n",
       "  </tbody>\n",
       "</table>\n",
       "</div>"
      ],
      "text/plain": [
       "                                         video_title   \n",
       "0  QUẢ BÁO: Phe dân chủ vờ đánh Trump để c...  \\\n",
       "1  TIN MỚI 22/03/2023 TRAN MAICO ÔI XEM HAY và CH...   \n",
       "2         EN 1920x1080 ABC LingoCamp Full Voiceovers   \n",
       "3  Peace of Mind | A Thousand Things | Sutter Health   \n",
       "4  TIN MỚI 22/03/2023 sonia ohlala BÁO TIN CỰC VU...   \n",
       "\n",
       "                                          link                 date_recorded   \n",
       "0  https://www.youtube.com/watch?v=ESHlO51BO5Q  Mar 21, 2023, 6:44:29 PM PDT  \\\n",
       "1  https://www.youtube.com/watch?v=hQwuLSR9qv0  Mar 21, 2023, 6:38:29 PM PDT   \n",
       "2  https://www.youtube.com/watch?v=4GonbX52uIk  Mar 21, 2023, 6:38:06 PM PDT   \n",
       "3  https://www.youtube.com/watch?v=y1BwiwC9M3o  Mar 21, 2023, 6:37:50 PM PDT   \n",
       "4  https://www.youtube.com/watch?v=0zkr4WF1IGI  Mar 21, 2023, 6:26:00 PM PDT   \n",
       "\n",
       "  meta_data_products meta_data_details   \n",
       "0            YouTube              None  \\\n",
       "1            YouTube              None   \n",
       "2            YouTube   From Google Ads   \n",
       "3            YouTube   From Google Ads   \n",
       "4            YouTube              None   \n",
       "\n",
       "                                   content_text_full   \n",
       "0  Watched QUẢ BÁO: Phe dân chủ vờ đánh Trum...  \\\n",
       "1  Watched TIN MỚI 22/03/2023 TRAN MAICO ÔI XEM H...   \n",
       "2  Watched EN 1920x1080 ABC LingoCamp Full Voiceo...   \n",
       "3  Watched Peace of Mind | A Thousand Things | Su...   \n",
       "4  Watched TIN MỚI 22/03/2023 sonia ohlala BÁO TI...   \n",
       "\n",
       "                                      meta_data_full                 file  \n",
       "0  Products: YouTubeWhy is this here? This activi...  search-history.html  \n",
       "1  Products: YouTubeWhy is this here? This activi...  search-history.html  \n",
       "2  Products: YouTubeDetails: From Google AdsWhy i...  search-history.html  \n",
       "3  Products: YouTubeDetails: From Google AdsWhy i...  search-history.html  \n",
       "4  Products: YouTubeWhy is this here? This activi...  search-history.html  "
      ]
     },
     "execution_count": 26,
     "metadata": {},
     "output_type": "execute_result"
    }
   ],
   "source": [
    "watch_history = pd.DataFrame(rows)\n",
    "\n",
    "watch_history.to_csv(\"../output/watch_history.csv\", encoding='utf-8', index=False)\n",
    "watch_history.head()\n"
   ]
  },
  {
   "cell_type": "code",
   "execution_count": 27,
   "id": "829d47cf",
   "metadata": {},
   "outputs": [
    {
     "data": {
      "text/plain": [
       "17847"
      ]
     },
     "execution_count": 27,
     "metadata": {},
     "output_type": "execute_result"
    }
   ],
   "source": [
    "len(watch_history)"
   ]
  },
  {
   "cell_type": "markdown",
   "id": "311600e7",
   "metadata": {},
   "source": [
    "### Scrape comments\n"
   ]
  },
  {
   "cell_type": "code",
   "execution_count": 43,
   "id": "2a94ca04",
   "metadata": {},
   "outputs": [
    {
     "name": "stdout",
     "output_type": "stream",
     "text": [
      "CPU times: user 18.2 ms, sys: 2.57 ms, total: 20.8 ms\n",
      "Wall time: 22.8 ms\n"
     ]
    }
   ],
   "source": [
    "%%time\n",
    "\n",
    "rows = []\n",
    "with open(\"../data/Takeout 2/YouTube and YouTube Music/my-comments/my-comments.html\") as page:\n",
    "    rows=[]\n",
    "    soup = BeautifulSoup(page,  \"html.parser\")\n",
    "    comment_container = soup.find(\"ul\")\n",
    "    comment_list = comment_container.find_all( \"li\")\n",
    "    for comment in comment_list: \n",
    "        comment_text = comment.text.split(\"Z.\")[1]\n",
    "        links = comment.find_all(\"a\")\n",
    "        comment_link = links[0]['href']\n",
    "        video_link = links[1][\"href\"]\n",
    "        date = comment.text.split(\"at\")[1].split(\"Z\")[0]\n",
    "        row ={\n",
    "            \"date\":date, \n",
    "            \"comment_link\":comment_link,\n",
    "            \"video_link\":video_link, \n",
    "            \"comment_text\":comment_text\n",
    "        }\n",
    "        rows.append(row)\n",
    "\n"
   ]
  },
  {
   "cell_type": "code",
   "execution_count": 44,
   "id": "e2193773",
   "metadata": {},
   "outputs": [
    {
     "data": {
      "text/plain": [
       "50"
      ]
     },
     "execution_count": 44,
     "metadata": {},
     "output_type": "execute_result"
    }
   ],
   "source": [
    "len(rows)"
   ]
  },
  {
   "cell_type": "code",
   "execution_count": 46,
   "id": "914ce89c",
   "metadata": {},
   "outputs": [
    {
     "data": {
      "text/html": [
       "<div>\n",
       "<style scoped>\n",
       "    .dataframe tbody tr th:only-of-type {\n",
       "        vertical-align: middle;\n",
       "    }\n",
       "\n",
       "    .dataframe tbody tr th {\n",
       "        vertical-align: top;\n",
       "    }\n",
       "\n",
       "    .dataframe thead th {\n",
       "        text-align: right;\n",
       "    }\n",
       "</style>\n",
       "<table border=\"1\" class=\"dataframe\">\n",
       "  <thead>\n",
       "    <tr style=\"text-align: right;\">\n",
       "      <th></th>\n",
       "      <th>date</th>\n",
       "      <th>comment_link</th>\n",
       "      <th>video_link</th>\n",
       "      <th>comment_text</th>\n",
       "    </tr>\n",
       "  </thead>\n",
       "  <tbody>\n",
       "    <tr>\n",
       "      <th>0</th>\n",
       "      <td>2023-02-09 19:29:56</td>\n",
       "      <td>http://www.youtube.com/watch?v=gikTPcp1aI0&amp;lc=...</td>\n",
       "      <td>http://www.youtube.com/watch?v=gikTPcp1aI0</td>\n",
       "      <td>Hi Ngọc! Mình tên Duyên ở Cali . Đến hôm nay m...</td>\n",
       "    </tr>\n",
       "    <tr>\n",
       "      <th>1</th>\n",
       "      <td>2023-01-10 00:25:03</td>\n",
       "      <td>http://www.youtube.com/watch?v=ymSbM71QS7w&amp;lc=...</td>\n",
       "      <td>http://www.youtube.com/watch?v=ymSbM71QS7w</td>\n",
       "      <td>Hi Ngọc ! Tiền của học sinh cho ba trăm mấy nh...</td>\n",
       "    </tr>\n",
       "    <tr>\n",
       "      <th>2</th>\n",
       "      <td>2022-12-09 02:32:31</td>\n",
       "      <td>http://www.youtube.com/watch?v=jWszH2pZAMs&amp;lc=...</td>\n",
       "      <td>http://www.youtube.com/watch?v=jWszH2pZAMs</td>\n",
       "      <td>Kính thưa Thầy!\\nCon thờ Quan Thế Âm Bồ Tát vậ...</td>\n",
       "    </tr>\n",
       "    <tr>\n",
       "      <th>3</th>\n",
       "      <td>2022-11-21 06:01:59</td>\n",
       "      <td>http://www.youtube.com/watch?v=SPQG_q77kzU&amp;lc=...</td>\n",
       "      <td>http://www.youtube.com/watch?v=SPQG_q77kzU</td>\n",
       "      <td>Gia trưởng là nói riêng cho cánh đàn ông, khôn...</td>\n",
       "    </tr>\n",
       "    <tr>\n",
       "      <th>4</th>\n",
       "      <td>2022-09-11 07:52:18</td>\n",
       "      <td>http://www.youtube.com/watch?v=K-4pku2Qgg0&amp;lc=...</td>\n",
       "      <td>http://www.youtube.com/watch?v=K-4pku2Qgg0</td>\n",
       "      <td>Nam Mô A Di Đà Phật 🙏🙏🙏</td>\n",
       "    </tr>\n",
       "  </tbody>\n",
       "</table>\n",
       "</div>"
      ],
      "text/plain": [
       "                    date                                       comment_link   \n",
       "0   2023-02-09 19:29:56   http://www.youtube.com/watch?v=gikTPcp1aI0&lc=...  \\\n",
       "1   2023-01-10 00:25:03   http://www.youtube.com/watch?v=ymSbM71QS7w&lc=...   \n",
       "2   2022-12-09 02:32:31   http://www.youtube.com/watch?v=jWszH2pZAMs&lc=...   \n",
       "3   2022-11-21 06:01:59   http://www.youtube.com/watch?v=SPQG_q77kzU&lc=...   \n",
       "4   2022-09-11 07:52:18   http://www.youtube.com/watch?v=K-4pku2Qgg0&lc=...   \n",
       "\n",
       "                                   video_link   \n",
       "0  http://www.youtube.com/watch?v=gikTPcp1aI0  \\\n",
       "1  http://www.youtube.com/watch?v=ymSbM71QS7w   \n",
       "2  http://www.youtube.com/watch?v=jWszH2pZAMs   \n",
       "3  http://www.youtube.com/watch?v=SPQG_q77kzU   \n",
       "4  http://www.youtube.com/watch?v=K-4pku2Qgg0   \n",
       "\n",
       "                                        comment_text  \n",
       "0  Hi Ngọc! Mình tên Duyên ở Cali . Đến hôm nay m...  \n",
       "1  Hi Ngọc ! Tiền của học sinh cho ba trăm mấy nh...  \n",
       "2  Kính thưa Thầy!\\nCon thờ Quan Thế Âm Bồ Tát vậ...  \n",
       "3  Gia trưởng là nói riêng cho cánh đàn ông, khôn...  \n",
       "4                            Nam Mô A Di Đà Phật 🙏🙏🙏  "
      ]
     },
     "execution_count": 46,
     "metadata": {},
     "output_type": "execute_result"
    }
   ],
   "source": [
    "comments_df = pd.DataFrame(rows)\n",
    "comments_df.to_csv(\"../output/comments.csv\", index =False)\n",
    "\n",
    "comments_df.head()"
   ]
  },
  {
   "cell_type": "code",
   "execution_count": null,
   "id": "eb6ecf30",
   "metadata": {},
   "outputs": [],
   "source": []
  }
 ],
 "metadata": {
  "kernelspec": {
   "display_name": "Python 3 (ipykernel)",
   "language": "python",
   "name": "python3"
  },
  "language_info": {
   "codemirror_mode": {
    "name": "ipython",
    "version": 3
   },
   "file_extension": ".py",
   "mimetype": "text/x-python",
   "name": "python",
   "nbconvert_exporter": "python",
   "pygments_lexer": "ipython3",
   "version": "3.11.2"
  }
 },
 "nbformat": 4,
 "nbformat_minor": 5
}
