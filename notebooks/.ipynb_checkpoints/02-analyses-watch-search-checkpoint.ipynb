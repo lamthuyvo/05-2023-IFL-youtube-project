{
 "cells": [
  {
   "cell_type": "markdown",
   "id": "e5e4f7e7",
   "metadata": {},
   "source": [
    "### Analysis of YouTube Archive (in Vietnamese)\n",
    "\n",
    "This notebook runs basic analyses of from the view and watch histories data files extracted via the `01-youtube-api-scraper` notebook. \n",
    "\n",
    "Among the analyses it performs are:\n",
    "\n",
    "#### Overall findings\n",
    "- Totals\n",
    "- Ads vs watched things\n",
    "- searched terms vs watched vs other\n",
    "- searched terms (list)\n",
    "    \n",
    "#### Specific to Google Ads\n",
    "- repeat videos\n",
    "- NLP, such as words most often used\n",
    "- Time-related trends\n",
    "\n",
    "#### Specific to non-ad views\n",
    "- repeat videos\n",
    "- NLP, such as words most often used\n",
    "- Time-related trends\n"
   ]
  },
  {
   "cell_type": "code",
   "execution_count": 1,
   "id": "51597634",
   "metadata": {},
   "outputs": [],
   "source": [
    "# —————— libraries built into Python ———————\n",
    "import re\n",
    "import datetime\n",
    "import time\n",
    "\n",
    "# —————— libraries that need to be installed, which you can do via pip ———————\n",
    "import pandas as pd\n",
    "from pyvi import ViTokenizer, ViPosTagger\n",
    "import matplotlib.pyplot as plt\n",
    "from deep_translator import (GoogleTranslator,\n",
    "                             PonsTranslator,\n",
    "                             LingueeTranslator,\n",
    "                             MyMemoryTranslator,\n",
    "                             YandexTranslator,\n",
    "                             DeeplTranslator,\n",
    "                             QcriTranslator,\n",
    "                             single_detection,\n",
    "                             batch_detection)"
   ]
  },
  {
   "cell_type": "code",
   "execution_count": 2,
   "id": "95271115",
   "metadata": {},
   "outputs": [],
   "source": [
    "pd.set_option('display.max_colwidth', None)"
   ]
  },
  {
   "cell_type": "markdown",
   "id": "44ff8cc2",
   "metadata": {},
   "source": [
    "Load all data files:"
   ]
  },
  {
   "cell_type": "code",
   "execution_count": 3,
   "id": "d132a5dc",
   "metadata": {},
   "outputs": [
    {
     "name": "stderr",
     "output_type": "stream",
     "text": [
      "/Users/lamthuyvo/Dropbox/work/brown/asian_elderly/analysis/venv/lib/python3.11/site-packages/dateutil/parser/_parser.py:1207: UnknownTimezoneWarning: tzname PDT identified but not understood.  Pass `tzinfos` argument in order to correctly return a timezone-aware datetime.  In a future version, this will raise an exception.\n",
      "  warnings.warn(\"tzname {tzname} identified but not understood.  \"\n",
      "/var/folders/lw/9fwsvtm56_d6lkb4v5m8nyvm0000gn/T/ipykernel_38340/2457133246.py:1: UserWarning: Could not infer format, so each element will be parsed individually, falling back to `dateutil`. To ensure parsing is consistent and as-expected, please specify a format.\n",
      "  watch_history = pd.read_csv(\n"
     ]
    },
    {
     "data": {
      "text/html": [
       "<div>\n",
       "<style scoped>\n",
       "    .dataframe tbody tr th:only-of-type {\n",
       "        vertical-align: middle;\n",
       "    }\n",
       "\n",
       "    .dataframe tbody tr th {\n",
       "        vertical-align: top;\n",
       "    }\n",
       "\n",
       "    .dataframe thead th {\n",
       "        text-align: right;\n",
       "    }\n",
       "</style>\n",
       "<table border=\"1\" class=\"dataframe\">\n",
       "  <thead>\n",
       "    <tr style=\"text-align: right;\">\n",
       "      <th></th>\n",
       "      <th>video_title</th>\n",
       "      <th>link</th>\n",
       "      <th>date_recorded</th>\n",
       "      <th>meta_data_products</th>\n",
       "      <th>meta_data_details</th>\n",
       "      <th>content_text_full</th>\n",
       "      <th>meta_data_full</th>\n",
       "      <th>file</th>\n",
       "    </tr>\n",
       "  </thead>\n",
       "  <tbody>\n",
       "    <tr>\n",
       "      <th>0</th>\n",
       "      <td>QUẢ BÁO: Phe dân chủ vờ đánh Trump để chạy tội cho Joe Biden nhưng thất bại ô nhục</td>\n",
       "      <td>https://www.youtube.com/watch?v=ESHlO51BO5Q</td>\n",
       "      <td>2023-03-21 18:44:29</td>\n",
       "      <td>YouTube</td>\n",
       "      <td>NaN</td>\n",
       "      <td>Watched QUẢ BÁO: Phe dân chủ vờ đánh Trump để chạy tội cho Joe Biden nhưng thất bại ô nhụcSaigon NewsMar 21, 2023, 6:44:29 PM PDT</td>\n",
       "      <td>Products: YouTubeWhy is this here? This activity was saved to your Google Account because the following settings were on: YouTube watch history. You can control these settings  here.</td>\n",
       "      <td>search-history.html</td>\n",
       "    </tr>\n",
       "    <tr>\n",
       "      <th>1</th>\n",
       "      <td>TIN MỚI 22/03/2023 TRAN MAICO ÔI XEM HAY và CHUẨN 100% mời bà con HUÊ KỲ xem ngay quá tuyệt vời</td>\n",
       "      <td>https://www.youtube.com/watch?v=hQwuLSR9qv0</td>\n",
       "      <td>2023-03-21 18:38:29</td>\n",
       "      <td>YouTube</td>\n",
       "      <td>NaN</td>\n",
       "      <td>Watched TIN MỚI 22/03/2023 TRAN MAICO ÔI XEM HAY và CHUẨN 100% mời bà con HUÊ KỲ xem ngay quá tuyệt vờiTIN TỨC HOA KỲMar 21, 2023, 6:38:29 PM PDT</td>\n",
       "      <td>Products: YouTubeWhy is this here? This activity was saved to your Google Account because the following settings were on: YouTube watch history. You can control these settings  here.</td>\n",
       "      <td>search-history.html</td>\n",
       "    </tr>\n",
       "    <tr>\n",
       "      <th>2</th>\n",
       "      <td>EN 1920x1080 ABC LingoCamp Full Voiceovers</td>\n",
       "      <td>https://www.youtube.com/watch?v=4GonbX52uIk</td>\n",
       "      <td>2023-03-21 18:38:06</td>\n",
       "      <td>YouTube</td>\n",
       "      <td>From Google Ads</td>\n",
       "      <td>Watched EN 1920x1080 ABC LingoCamp Full VoiceoversWatched at 6:38 PMMar 21, 2023, 6:38:06 PM PDT</td>\n",
       "      <td>Products: YouTubeDetails: From Google AdsWhy is this here? This activity was saved to your Google Account because the following settings were on: Web &amp; App Activity, YouTube watch history, YouTube search history. You can control these settings  here.</td>\n",
       "      <td>search-history.html</td>\n",
       "    </tr>\n",
       "    <tr>\n",
       "      <th>3</th>\n",
       "      <td>Peace of Mind | A Thousand Things | Sutter Health</td>\n",
       "      <td>https://www.youtube.com/watch?v=y1BwiwC9M3o</td>\n",
       "      <td>2023-03-21 18:37:50</td>\n",
       "      <td>YouTube</td>\n",
       "      <td>From Google Ads</td>\n",
       "      <td>Watched Peace of Mind | A Thousand Things | Sutter HealthWatched at 6:37 PMMar 21, 2023, 6:37:50 PM PDT</td>\n",
       "      <td>Products: YouTubeDetails: From Google AdsWhy is this here? This activity was saved to your Google Account because the following settings were on: Web &amp; App Activity, YouTube watch history, YouTube search history. You can control these settings  here.</td>\n",
       "      <td>search-history.html</td>\n",
       "    </tr>\n",
       "    <tr>\n",
       "      <th>4</th>\n",
       "      <td>TIN MỚI 22/03/2023 sonia ohlala BÁO TIN CỰC VUI VỀ DONALD TRUMP..KÍNH MỜI XEM NGAY CHO NO'NG!</td>\n",
       "      <td>https://www.youtube.com/watch?v=0zkr4WF1IGI</td>\n",
       "      <td>2023-03-21 18:26:00</td>\n",
       "      <td>YouTube</td>\n",
       "      <td>NaN</td>\n",
       "      <td>Watched TIN MỚI 22/03/2023 sonia ohlala BÁO TIN CỰC VUI VỀ DONALD TRUMP..KÍNH MỜI XEM NGAY CHO NO'NG!TIN TỨC HOA KỲMar 21, 2023, 6:26:00 PM PDT</td>\n",
       "      <td>Products: YouTubeWhy is this here? This activity was saved to your Google Account because the following settings were on: YouTube watch history. You can control these settings  here.</td>\n",
       "      <td>search-history.html</td>\n",
       "    </tr>\n",
       "  </tbody>\n",
       "</table>\n",
       "</div>"
      ],
      "text/plain": [
       "                                                                                         video_title   \n",
       "0  QUẢ BÁO: Phe dân chủ vờ đánh Trump để chạy tội cho Joe Biden nhưng thất bại ô nhục  \\\n",
       "1    TIN MỚI 22/03/2023 TRAN MAICO ÔI XEM HAY và CHUẨN 100% mời bà con HUÊ KỲ xem ngay quá tuyệt vời   \n",
       "2                                                         EN 1920x1080 ABC LingoCamp Full Voiceovers   \n",
       "3                                                  Peace of Mind | A Thousand Things | Sutter Health   \n",
       "4      TIN MỚI 22/03/2023 sonia ohlala BÁO TIN CỰC VUI VỀ DONALD TRUMP..KÍNH MỜI XEM NGAY CHO NO'NG!   \n",
       "\n",
       "                                          link       date_recorded   \n",
       "0  https://www.youtube.com/watch?v=ESHlO51BO5Q 2023-03-21 18:44:29  \\\n",
       "1  https://www.youtube.com/watch?v=hQwuLSR9qv0 2023-03-21 18:38:29   \n",
       "2  https://www.youtube.com/watch?v=4GonbX52uIk 2023-03-21 18:38:06   \n",
       "3  https://www.youtube.com/watch?v=y1BwiwC9M3o 2023-03-21 18:37:50   \n",
       "4  https://www.youtube.com/watch?v=0zkr4WF1IGI 2023-03-21 18:26:00   \n",
       "\n",
       "  meta_data_products meta_data_details   \n",
       "0            YouTube               NaN  \\\n",
       "1            YouTube               NaN   \n",
       "2            YouTube   From Google Ads   \n",
       "3            YouTube   From Google Ads   \n",
       "4            YouTube               NaN   \n",
       "\n",
       "                                                                                                                                   content_text_full   \n",
       "0   Watched QUẢ BÁO: Phe dân chủ vờ đánh Trump để chạy tội cho Joe Biden nhưng thất bại ô nhụcSaigon NewsMar 21, 2023, 6:44:29 PM PDT  \\\n",
       "1  Watched TIN MỚI 22/03/2023 TRAN MAICO ÔI XEM HAY và CHUẨN 100% mời bà con HUÊ KỲ xem ngay quá tuyệt vờiTIN TỨC HOA KỲMar 21, 2023, 6:38:29 PM PDT   \n",
       "2                                                   Watched EN 1920x1080 ABC LingoCamp Full VoiceoversWatched at 6:38 PMMar 21, 2023, 6:38:06 PM PDT   \n",
       "3                                            Watched Peace of Mind | A Thousand Things | Sutter HealthWatched at 6:37 PMMar 21, 2023, 6:37:50 PM PDT   \n",
       "4    Watched TIN MỚI 22/03/2023 sonia ohlala BÁO TIN CỰC VUI VỀ DONALD TRUMP..KÍNH MỜI XEM NGAY CHO NO'NG!TIN TỨC HOA KỲMar 21, 2023, 6:26:00 PM PDT   \n",
       "\n",
       "                                                                                                                                                                                                                                               meta_data_full   \n",
       "0                                                                      Products: YouTubeWhy is this here? This activity was saved to your Google Account because the following settings were on: YouTube watch history. You can control these settings  here.  \\\n",
       "1                                                                      Products: YouTubeWhy is this here? This activity was saved to your Google Account because the following settings were on: YouTube watch history. You can control these settings  here.   \n",
       "2  Products: YouTubeDetails: From Google AdsWhy is this here? This activity was saved to your Google Account because the following settings were on: Web & App Activity, YouTube watch history, YouTube search history. You can control these settings  here.   \n",
       "3  Products: YouTubeDetails: From Google AdsWhy is this here? This activity was saved to your Google Account because the following settings were on: Web & App Activity, YouTube watch history, YouTube search history. You can control these settings  here.   \n",
       "4                                                                      Products: YouTubeWhy is this here? This activity was saved to your Google Account because the following settings were on: YouTube watch history. You can control these settings  here.   \n",
       "\n",
       "                  file  \n",
       "0  search-history.html  \n",
       "1  search-history.html  \n",
       "2  search-history.html  \n",
       "3  search-history.html  \n",
       "4  search-history.html  "
      ]
     },
     "execution_count": 3,
     "metadata": {},
     "output_type": "execute_result"
    }
   ],
   "source": [
    "watch_history = pd.read_csv(\n",
    "    \"../output/watch_history.csv\",\n",
    "    parse_dates = [\"date_recorded\"]\n",
    ")\n",
    "watch_history.head()"
   ]
  },
  {
   "cell_type": "code",
   "execution_count": 4,
   "id": "6d578392",
   "metadata": {},
   "outputs": [
    {
     "name": "stderr",
     "output_type": "stream",
     "text": [
      "/Users/lamthuyvo/Dropbox/work/brown/asian_elderly/analysis/venv/lib/python3.11/site-packages/dateutil/parser/_parser.py:1207: UnknownTimezoneWarning: tzname PDT identified but not understood.  Pass `tzinfos` argument in order to correctly return a timezone-aware datetime.  In a future version, this will raise an exception.\n",
      "  warnings.warn(\"tzname {tzname} identified but not understood.  \"\n",
      "/var/folders/lw/9fwsvtm56_d6lkb4v5m8nyvm0000gn/T/ipykernel_38340/251781333.py:1: UserWarning: Could not infer format, so each element will be parsed individually, falling back to `dateutil`. To ensure parsing is consistent and as-expected, please specify a format.\n",
      "  search_history = pd.read_csv(\n"
     ]
    },
    {
     "data": {
      "text/html": [
       "<div>\n",
       "<style scoped>\n",
       "    .dataframe tbody tr th:only-of-type {\n",
       "        vertical-align: middle;\n",
       "    }\n",
       "\n",
       "    .dataframe tbody tr th {\n",
       "        vertical-align: top;\n",
       "    }\n",
       "\n",
       "    .dataframe thead th {\n",
       "        text-align: right;\n",
       "    }\n",
       "</style>\n",
       "<table border=\"1\" class=\"dataframe\">\n",
       "  <thead>\n",
       "    <tr style=\"text-align: right;\">\n",
       "      <th></th>\n",
       "      <th>video_title</th>\n",
       "      <th>link</th>\n",
       "      <th>content_type</th>\n",
       "      <th>date_recorded</th>\n",
       "      <th>meta_data_products</th>\n",
       "      <th>meta_data_details</th>\n",
       "      <th>content_text_full</th>\n",
       "      <th>meta_data_full</th>\n",
       "      <th>file</th>\n",
       "    </tr>\n",
       "  </thead>\n",
       "  <tbody>\n",
       "    <tr>\n",
       "      <th>0</th>\n",
       "      <td>EN 1920x1080 ABC LingoCamp Full Voiceovers</td>\n",
       "      <td>https://www.youtube.com/watch?v=4GonbX52uIk</td>\n",
       "      <td>Watched</td>\n",
       "      <td>2023-03-21 18:38:06</td>\n",
       "      <td>YouTube</td>\n",
       "      <td>From Google Ads</td>\n",
       "      <td>Watched EN 1920x1080 ABC LingoCamp Full VoiceoversWatched at 6:38 PMMar 21, 2023, 6:38:06 PM PDT</td>\n",
       "      <td>Products: YouTubeDetails: From Google AdsWhy is this here? This activity was saved to your Google Account because the following settings were on: Web &amp; App Activity, YouTube watch history, YouTube search history. You can control these settings  here.</td>\n",
       "      <td>search-history.html</td>\n",
       "    </tr>\n",
       "    <tr>\n",
       "      <th>1</th>\n",
       "      <td>Peace of Mind | A Thousand Things | Sutter Health</td>\n",
       "      <td>https://www.youtube.com/watch?v=y1BwiwC9M3o</td>\n",
       "      <td>Watched</td>\n",
       "      <td>2023-03-21 18:37:50</td>\n",
       "      <td>YouTube</td>\n",
       "      <td>From Google Ads</td>\n",
       "      <td>Watched Peace of Mind | A Thousand Things | Sutter HealthWatched at 6:37 PMMar 21, 2023, 6:37:50 PM PDT</td>\n",
       "      <td>Products: YouTubeDetails: From Google AdsWhy is this here? This activity was saved to your Google Account because the following settings were on: Web &amp; App Activity, YouTube watch history, YouTube search history. You can control these settings  here.</td>\n",
       "      <td>search-history.html</td>\n",
       "    </tr>\n",
       "    <tr>\n",
       "      <th>2</th>\n",
       "      <td>2022 GLP-1 Rybelsus US22RYB00136 RYB Record Store YouTube MP4 (06s)</td>\n",
       "      <td>https://www.youtube.com/watch?v=e12L3ryhelY</td>\n",
       "      <td>Watched</td>\n",
       "      <td>2023-03-21 18:16:17</td>\n",
       "      <td>YouTube</td>\n",
       "      <td>From Google Ads</td>\n",
       "      <td>Watched 2022 GLP-1 Rybelsus US22RYB00136 RYB Record Store YouTube MP4 (06s)Watched at 6:16 PMMar 21, 2023, 6:16:17 PM PDT</td>\n",
       "      <td>Products: YouTubeDetails: From Google AdsWhy is this here? This activity was saved to your Google Account because the following settings were on: Web &amp; App Activity, YouTube watch history, YouTube search history. You can control these settings  here.</td>\n",
       "      <td>search-history.html</td>\n",
       "    </tr>\n",
       "    <tr>\n",
       "      <th>3</th>\n",
       "      <td>23 Video SelectBlinds OTT Bumper V2 FNL</td>\n",
       "      <td>https://www.youtube.com/watch?v=XZQcOOBEb_0</td>\n",
       "      <td>Watched</td>\n",
       "      <td>2023-03-21 18:16:11</td>\n",
       "      <td>YouTube</td>\n",
       "      <td>From Google Ads</td>\n",
       "      <td>Watched 23 Video SelectBlinds OTT Bumper V2 FNLWatched at 6:16 PMMar 21, 2023, 6:16:11 PM PDT</td>\n",
       "      <td>Products: YouTubeDetails: From Google AdsWhy is this here? This activity was saved to your Google Account because the following settings were on: Web &amp; App Activity, YouTube watch history, YouTube search history. You can control these settings  here.</td>\n",
       "      <td>search-history.html</td>\n",
       "    </tr>\n",
       "    <tr>\n",
       "      <th>4</th>\n",
       "      <td>NXT22001 1B PC 15secCAPTIONED 9x16 PAC V2</td>\n",
       "      <td>https://www.youtube.com/watch?v=V8rPSNSIkkI</td>\n",
       "      <td>Watched</td>\n",
       "      <td>2023-03-20 22:14:14</td>\n",
       "      <td>YouTube</td>\n",
       "      <td>From Google Ads</td>\n",
       "      <td>Watched NXT22001 1B PC 15secCAPTIONED 9x16 PAC V2Watched at 10:14 PMMar 20, 2023, 10:14:14 PM PDT</td>\n",
       "      <td>Products: YouTubeDetails: From Google AdsWhy is this here? This activity was saved to your Google Account because the following settings were on: Web &amp; App Activity, YouTube watch history, YouTube search history. You can control these settings  here.</td>\n",
       "      <td>search-history.html</td>\n",
       "    </tr>\n",
       "  </tbody>\n",
       "</table>\n",
       "</div>"
      ],
      "text/plain": [
       "                                                           video_title   \n",
       "0                           EN 1920x1080 ABC LingoCamp Full Voiceovers  \\\n",
       "1                    Peace of Mind | A Thousand Things | Sutter Health   \n",
       "2  2022 GLP-1 Rybelsus US22RYB00136 RYB Record Store YouTube MP4 (06s)   \n",
       "3                              23 Video SelectBlinds OTT Bumper V2 FNL   \n",
       "4                            NXT22001 1B PC 15secCAPTIONED 9x16 PAC V2   \n",
       "\n",
       "                                          link content_type   \n",
       "0  https://www.youtube.com/watch?v=4GonbX52uIk     Watched   \\\n",
       "1  https://www.youtube.com/watch?v=y1BwiwC9M3o     Watched    \n",
       "2  https://www.youtube.com/watch?v=e12L3ryhelY     Watched    \n",
       "3  https://www.youtube.com/watch?v=XZQcOOBEb_0     Watched    \n",
       "4  https://www.youtube.com/watch?v=V8rPSNSIkkI     Watched    \n",
       "\n",
       "        date_recorded meta_data_products meta_data_details   \n",
       "0 2023-03-21 18:38:06            YouTube   From Google Ads  \\\n",
       "1 2023-03-21 18:37:50            YouTube   From Google Ads   \n",
       "2 2023-03-21 18:16:17            YouTube   From Google Ads   \n",
       "3 2023-03-21 18:16:11            YouTube   From Google Ads   \n",
       "4 2023-03-20 22:14:14            YouTube   From Google Ads   \n",
       "\n",
       "                                                                                                           content_text_full   \n",
       "0                           Watched EN 1920x1080 ABC LingoCamp Full VoiceoversWatched at 6:38 PMMar 21, 2023, 6:38:06 PM PDT  \\\n",
       "1                    Watched Peace of Mind | A Thousand Things | Sutter HealthWatched at 6:37 PMMar 21, 2023, 6:37:50 PM PDT   \n",
       "2  Watched 2022 GLP-1 Rybelsus US22RYB00136 RYB Record Store YouTube MP4 (06s)Watched at 6:16 PMMar 21, 2023, 6:16:17 PM PDT   \n",
       "3                              Watched 23 Video SelectBlinds OTT Bumper V2 FNLWatched at 6:16 PMMar 21, 2023, 6:16:11 PM PDT   \n",
       "4                          Watched NXT22001 1B PC 15secCAPTIONED 9x16 PAC V2Watched at 10:14 PMMar 20, 2023, 10:14:14 PM PDT   \n",
       "\n",
       "                                                                                                                                                                                                                                               meta_data_full   \n",
       "0  Products: YouTubeDetails: From Google AdsWhy is this here? This activity was saved to your Google Account because the following settings were on: Web & App Activity, YouTube watch history, YouTube search history. You can control these settings  here.  \\\n",
       "1  Products: YouTubeDetails: From Google AdsWhy is this here? This activity was saved to your Google Account because the following settings were on: Web & App Activity, YouTube watch history, YouTube search history. You can control these settings  here.   \n",
       "2  Products: YouTubeDetails: From Google AdsWhy is this here? This activity was saved to your Google Account because the following settings were on: Web & App Activity, YouTube watch history, YouTube search history. You can control these settings  here.   \n",
       "3  Products: YouTubeDetails: From Google AdsWhy is this here? This activity was saved to your Google Account because the following settings were on: Web & App Activity, YouTube watch history, YouTube search history. You can control these settings  here.   \n",
       "4  Products: YouTubeDetails: From Google AdsWhy is this here? This activity was saved to your Google Account because the following settings were on: Web & App Activity, YouTube watch history, YouTube search history. You can control these settings  here.   \n",
       "\n",
       "                  file  \n",
       "0  search-history.html  \n",
       "1  search-history.html  \n",
       "2  search-history.html  \n",
       "3  search-history.html  \n",
       "4  search-history.html  "
      ]
     },
     "execution_count": 4,
     "metadata": {},
     "output_type": "execute_result"
    }
   ],
   "source": [
    "search_history = pd.read_csv(\n",
    "    \"../output/search_history.csv\",\n",
    "    parse_dates = [\"date_recorded\"]\n",
    ")\n",
    "\n",
    "\n",
    "search_history.head()"
   ]
  },
  {
   "cell_type": "code",
   "execution_count": 5,
   "id": "d6bd1555",
   "metadata": {},
   "outputs": [
    {
     "data": {
      "text/plain": [
       "Index(['video_title', 'link', 'date_recorded', 'meta_data_products',\n",
       "       'meta_data_details', 'content_text_full', 'meta_data_full', 'file'],\n",
       "      dtype='object')"
      ]
     },
     "execution_count": 5,
     "metadata": {},
     "output_type": "execute_result"
    }
   ],
   "source": [
    "watch_history.columns"
   ]
  },
  {
   "cell_type": "markdown",
   "id": "a6cdd64f",
   "metadata": {},
   "source": [
    "## Analyses\n",
    "\n",
    "\n",
    "#### First prepare the data:\n",
    "- cut off dates starting 2020\n",
    "- separate ads from views\n",
    "\n",
    "#### Then produce analyses:\n",
    "\n",
    "Overall findings:\n",
    "- Totals\n",
    "- Ads vs watched things\n",
    "- searched terms vs watched vs other\n",
    "- searched terms (list)\n",
    "    \n",
    "Specific to Google Ads:\n",
    "- repeat videos\n",
    "- NLP, such as words most often used\n",
    "- Time-related trends\n",
    "\n",
    "Specific to non-ad views:\n",
    "- Time related trends\n",
    "- repeat videos\n",
    "- NLP, such as words most often used\n",
    "- Time-related trends\n",
    "\n",
    "\n"
   ]
  },
  {
   "cell_type": "code",
   "execution_count": 6,
   "id": "c6062368",
   "metadata": {},
   "outputs": [],
   "source": [
    "watch_history_sm = watch_history[watch_history[\"date_recorded\"].apply(lambda x: x.year) >= 2020]\n",
    "search_history_sm = search_history[search_history[\"date_recorded\"].apply(lambda x: x.year) >= 2020]\n",
    "watch_history_sm_no_ads = watch_history_sm[watch_history_sm[\"meta_data_details\"]!= \"\\u2003From Google Ads\"]\n",
    "watch_history_ads_only = watch_history_sm[watch_history_sm[\"meta_data_details\"]== \"\\u2003From Google Ads\"]\n",
    "search_history_ads_only = search_history_sm[search_history_sm[\"meta_data_details\"]== \"\\u2003From Google Ads\"]\n",
    "search_history_sm_no_ads = search_history_sm[search_history_sm[\"meta_data_details\"]!= \"\\u2003From Google Ads\"]"
   ]
  },
  {
   "cell_type": "code",
   "execution_count": 7,
   "id": "4b6e9734",
   "metadata": {},
   "outputs": [
    {
     "data": {
      "text/html": [
       "<div>\n",
       "<style scoped>\n",
       "    .dataframe tbody tr th:only-of-type {\n",
       "        vertical-align: middle;\n",
       "    }\n",
       "\n",
       "    .dataframe tbody tr th {\n",
       "        vertical-align: top;\n",
       "    }\n",
       "\n",
       "    .dataframe thead th {\n",
       "        text-align: right;\n",
       "    }\n",
       "</style>\n",
       "<table border=\"1\" class=\"dataframe\">\n",
       "  <thead>\n",
       "    <tr style=\"text-align: right;\">\n",
       "      <th></th>\n",
       "      <th>video_title</th>\n",
       "      <th>link</th>\n",
       "      <th>content_type</th>\n",
       "      <th>date_recorded</th>\n",
       "      <th>meta_data_products</th>\n",
       "      <th>meta_data_details</th>\n",
       "      <th>content_text_full</th>\n",
       "      <th>meta_data_full</th>\n",
       "      <th>file</th>\n",
       "    </tr>\n",
       "  </thead>\n",
       "  <tbody>\n",
       "    <tr>\n",
       "      <th>0</th>\n",
       "      <td>EN 1920x1080 ABC LingoCamp Full Voiceovers</td>\n",
       "      <td>https://www.youtube.com/watch?v=4GonbX52uIk</td>\n",
       "      <td>Watched</td>\n",
       "      <td>2023-03-21 18:38:06</td>\n",
       "      <td>YouTube</td>\n",
       "      <td>From Google Ads</td>\n",
       "      <td>Watched EN 1920x1080 ABC LingoCamp Full VoiceoversWatched at 6:38 PMMar 21, 2023, 6:38:06 PM PDT</td>\n",
       "      <td>Products: YouTubeDetails: From Google AdsWhy is this here? This activity was saved to your Google Account because the following settings were on: Web &amp; App Activity, YouTube watch history, YouTube search history. You can control these settings  here.</td>\n",
       "      <td>search-history.html</td>\n",
       "    </tr>\n",
       "  </tbody>\n",
       "</table>\n",
       "</div>"
      ],
      "text/plain": [
       "                                  video_title   \n",
       "0  EN 1920x1080 ABC LingoCamp Full Voiceovers  \\\n",
       "\n",
       "                                          link content_type   \n",
       "0  https://www.youtube.com/watch?v=4GonbX52uIk     Watched   \\\n",
       "\n",
       "        date_recorded meta_data_products meta_data_details   \n",
       "0 2023-03-21 18:38:06            YouTube   From Google Ads  \\\n",
       "\n",
       "                                                                                  content_text_full   \n",
       "0  Watched EN 1920x1080 ABC LingoCamp Full VoiceoversWatched at 6:38 PMMar 21, 2023, 6:38:06 PM PDT  \\\n",
       "\n",
       "                                                                                                                                                                                                                                               meta_data_full   \n",
       "0  Products: YouTubeDetails: From Google AdsWhy is this here? This activity was saved to your Google Account because the following settings were on: Web & App Activity, YouTube watch history, YouTube search history. You can control these settings  here.  \\\n",
       "\n",
       "                  file  \n",
       "0  search-history.html  "
      ]
     },
     "execution_count": 7,
     "metadata": {},
     "output_type": "execute_result"
    }
   ],
   "source": [
    "search_history_sm.head(1)"
   ]
  },
  {
   "cell_type": "code",
   "execution_count": 8,
   "id": "a25d4919",
   "metadata": {},
   "outputs": [
    {
     "data": {
      "text/plain": [
       "'\\u2003From Google Ads'"
      ]
     },
     "execution_count": 8,
     "metadata": {},
     "output_type": "execute_result"
    }
   ],
   "source": [
    "search_history_sm[\"meta_data_details\"][0]"
   ]
  },
  {
   "cell_type": "code",
   "execution_count": 9,
   "id": "277216e0",
   "metadata": {},
   "outputs": [
    {
     "data": {
      "text/plain": [
       "5955"
      ]
     },
     "execution_count": 9,
     "metadata": {},
     "output_type": "execute_result"
    }
   ],
   "source": [
    "len(watch_history_ads_only)"
   ]
  },
  {
   "cell_type": "markdown",
   "id": "2463fe38",
   "metadata": {},
   "source": [
    "#### Ads vs watched things as a percentage"
   ]
  },
  {
   "cell_type": "code",
   "execution_count": 10,
   "id": "ce9e48a3",
   "metadata": {},
   "outputs": [
    {
     "data": {
      "text/plain": [
       "0    33.366952\n",
       "Name: count, dtype: float64"
      ]
     },
     "execution_count": 10,
     "metadata": {},
     "output_type": "execute_result"
    }
   ],
   "source": [
    "watch_history[\"meta_data_details\"].value_counts().reset_index()[\"count\"]/len(watch_history)*100"
   ]
  },
  {
   "cell_type": "markdown",
   "id": "933dd739",
   "metadata": {},
   "source": [
    "#### Searched terms vs watched vs other"
   ]
  },
  {
   "cell_type": "code",
   "execution_count": 11,
   "id": "22b776ca",
   "metadata": {},
   "outputs": [
    {
     "data": {
      "text/plain": [
       "content_type\n",
       "Watched          5562\n",
       "Visited           227\n",
       "Searched for       75\n",
       "Name: count, dtype: int64"
      ]
     },
     "execution_count": 11,
     "metadata": {},
     "output_type": "execute_result"
    }
   ],
   "source": [
    "search_history_sm[\"content_type\"].value_counts()"
   ]
  },
  {
   "cell_type": "markdown",
   "id": "5180b368",
   "metadata": {},
   "source": [
    "#### Searched terms (list)"
   ]
  },
  {
   "cell_type": "code",
   "execution_count": 12,
   "id": "2aa8afae",
   "metadata": {},
   "outputs": [
    {
     "data": {
      "text/plain": [
       "'Searched for\\xa0'"
      ]
     },
     "execution_count": 12,
     "metadata": {},
     "output_type": "execute_result"
    }
   ],
   "source": [
    "search_history_sm[\"content_type\"][5859]"
   ]
  },
  {
   "cell_type": "code",
   "execution_count": 13,
   "id": "cc643772",
   "metadata": {},
   "outputs": [],
   "source": [
    "search_terms = search_history_sm[search_history_sm[\"content_type\"] == \"Searched for\\xa0\"]"
   ]
  },
  {
   "cell_type": "code",
   "execution_count": 14,
   "id": "0f7b756f",
   "metadata": {},
   "outputs": [
    {
     "data": {
      "text/html": [
       "<div>\n",
       "<style scoped>\n",
       "    .dataframe tbody tr th:only-of-type {\n",
       "        vertical-align: middle;\n",
       "    }\n",
       "\n",
       "    .dataframe tbody tr th {\n",
       "        vertical-align: top;\n",
       "    }\n",
       "\n",
       "    .dataframe thead th {\n",
       "        text-align: right;\n",
       "    }\n",
       "</style>\n",
       "<table border=\"1\" class=\"dataframe\">\n",
       "  <thead>\n",
       "    <tr style=\"text-align: right;\">\n",
       "      <th></th>\n",
       "      <th>video_title</th>\n",
       "      <th>link</th>\n",
       "      <th>content_type</th>\n",
       "      <th>date_recorded</th>\n",
       "      <th>meta_data_products</th>\n",
       "      <th>meta_data_details</th>\n",
       "      <th>content_text_full</th>\n",
       "      <th>meta_data_full</th>\n",
       "      <th>file</th>\n",
       "    </tr>\n",
       "  </thead>\n",
       "  <tbody>\n",
       "    <tr>\n",
       "      <th>15</th>\n",
       "      <td>tử vi 20/3/2023</td>\n",
       "      <td>https://www.youtube.com/results?search_query=t%E1%BB%AD+vi+20/3/2023</td>\n",
       "      <td>Searched for</td>\n",
       "      <td>2023-03-19 23:05:02</td>\n",
       "      <td>YouTube</td>\n",
       "      <td>NaN</td>\n",
       "      <td>Searched for tử vi 20/3/2023Mar 19, 2023, 11:05:02 PM PDT</td>\n",
       "      <td>Products: YouTubeWhy is this here? This activity was saved to your Google Account because the following settings were on: YouTube search history. You can control these settings  here.</td>\n",
       "      <td>search-history.html</td>\n",
       "    </tr>\n",
       "    <tr>\n",
       "      <th>18</th>\n",
       "      <td>hãy sống với tình yêu</td>\n",
       "      <td>https://www.youtube.com/results?search_query=h%C3%A3y+s%E1%BB%91ng+v%E1%BB%9Bi+t%C3%ACnh+y%C3%AAu</td>\n",
       "      <td>Searched for</td>\n",
       "      <td>2023-03-19 15:08:27</td>\n",
       "      <td>YouTube</td>\n",
       "      <td>NaN</td>\n",
       "      <td>Searched for hãy sống với tình yêuMar 19, 2023, 3:08:27 PM PDT</td>\n",
       "      <td>Products: YouTubeWhy is this here? This activity was saved to your Google Account because the following settings were on: YouTube search history. You can control these settings  here.</td>\n",
       "      <td>search-history.html</td>\n",
       "    </tr>\n",
       "  </tbody>\n",
       "</table>\n",
       "</div>"
      ],
      "text/plain": [
       "              video_title   \n",
       "15        tử vi 20/3/2023  \\\n",
       "18  hãy sống với tình yêu   \n",
       "\n",
       "                                                                                                 link   \n",
       "15                               https://www.youtube.com/results?search_query=t%E1%BB%AD+vi+20/3/2023  \\\n",
       "18  https://www.youtube.com/results?search_query=h%C3%A3y+s%E1%BB%91ng+v%E1%BB%9Bi+t%C3%ACnh+y%C3%AAu   \n",
       "\n",
       "     content_type       date_recorded meta_data_products meta_data_details   \n",
       "15  Searched for  2023-03-19 23:05:02            YouTube               NaN  \\\n",
       "18  Searched for  2023-03-19 15:08:27            YouTube               NaN   \n",
       "\n",
       "                                                 content_text_full   \n",
       "15       Searched for tử vi 20/3/2023Mar 19, 2023, 11:05:02 PM PDT  \\\n",
       "18  Searched for hãy sống với tình yêuMar 19, 2023, 3:08:27 PM PDT   \n",
       "\n",
       "                                                                                                                                                                             meta_data_full   \n",
       "15  Products: YouTubeWhy is this here? This activity was saved to your Google Account because the following settings were on: YouTube search history. You can control these settings  here.  \\\n",
       "18  Products: YouTubeWhy is this here? This activity was saved to your Google Account because the following settings were on: YouTube search history. You can control these settings  here.   \n",
       "\n",
       "                   file  \n",
       "15  search-history.html  \n",
       "18  search-history.html  "
      ]
     },
     "execution_count": 14,
     "metadata": {},
     "output_type": "execute_result"
    }
   ],
   "source": [
    "search_terms.head(2)"
   ]
  },
  {
   "cell_type": "code",
   "execution_count": 15,
   "id": "7c00583a",
   "metadata": {},
   "outputs": [
    {
     "name": "stderr",
     "output_type": "stream",
     "text": [
      "/var/folders/lw/9fwsvtm56_d6lkb4v5m8nyvm0000gn/T/ipykernel_38340/773865456.py:1: SettingWithCopyWarning: \n",
      "A value is trying to be set on a copy of a slice from a DataFrame.\n",
      "Try using .loc[row_indexer,col_indexer] = value instead\n",
      "\n",
      "See the caveats in the documentation: https://pandas.pydata.org/pandas-docs/stable/user_guide/indexing.html#returning-a-view-versus-a-copy\n",
      "  search_terms[\"translated_search\"]  = search_terms[\"video_title\"].apply(\n"
     ]
    },
    {
     "data": {
      "text/html": [
       "<div>\n",
       "<style scoped>\n",
       "    .dataframe tbody tr th:only-of-type {\n",
       "        vertical-align: middle;\n",
       "    }\n",
       "\n",
       "    .dataframe tbody tr th {\n",
       "        vertical-align: top;\n",
       "    }\n",
       "\n",
       "    .dataframe thead th {\n",
       "        text-align: right;\n",
       "    }\n",
       "</style>\n",
       "<table border=\"1\" class=\"dataframe\">\n",
       "  <thead>\n",
       "    <tr style=\"text-align: right;\">\n",
       "      <th></th>\n",
       "      <th>video_title</th>\n",
       "      <th>link</th>\n",
       "      <th>content_type</th>\n",
       "      <th>date_recorded</th>\n",
       "      <th>meta_data_products</th>\n",
       "      <th>meta_data_details</th>\n",
       "      <th>content_text_full</th>\n",
       "      <th>meta_data_full</th>\n",
       "      <th>file</th>\n",
       "      <th>translated_search</th>\n",
       "    </tr>\n",
       "  </thead>\n",
       "  <tbody>\n",
       "    <tr>\n",
       "      <th>15</th>\n",
       "      <td>tử vi 20/3/2023</td>\n",
       "      <td>https://www.youtube.com/results?search_query=t%E1%BB%AD+vi+20/3/2023</td>\n",
       "      <td>Searched for</td>\n",
       "      <td>2023-03-19 23:05:02</td>\n",
       "      <td>YouTube</td>\n",
       "      <td>NaN</td>\n",
       "      <td>Searched for tử vi 20/3/2023Mar 19, 2023, 11:05:02 PM PDT</td>\n",
       "      <td>Products: YouTubeWhy is this here? This activity was saved to your Google Account because the following settings were on: YouTube search history. You can control these settings  here.</td>\n",
       "      <td>search-history.html</td>\n",
       "      <td>horoscope 20/3/2023</td>\n",
       "    </tr>\n",
       "    <tr>\n",
       "      <th>18</th>\n",
       "      <td>hãy sống với tình yêu</td>\n",
       "      <td>https://www.youtube.com/results?search_query=h%C3%A3y+s%E1%BB%91ng+v%E1%BB%9Bi+t%C3%ACnh+y%C3%AAu</td>\n",
       "      <td>Searched for</td>\n",
       "      <td>2023-03-19 15:08:27</td>\n",
       "      <td>YouTube</td>\n",
       "      <td>NaN</td>\n",
       "      <td>Searched for hãy sống với tình yêuMar 19, 2023, 3:08:27 PM PDT</td>\n",
       "      <td>Products: YouTubeWhy is this here? This activity was saved to your Google Account because the following settings were on: YouTube search history. You can control these settings  here.</td>\n",
       "      <td>search-history.html</td>\n",
       "      <td>live with love</td>\n",
       "    </tr>\n",
       "    <tr>\n",
       "      <th>22</th>\n",
       "      <td>chú đại bi 3 biến</td>\n",
       "      <td>https://www.youtube.com/results?search_query=ch%C3%BA+%C4%91%E1%BA%A1i+bi+3+bi%E1%BA%BFn</td>\n",
       "      <td>Searched for</td>\n",
       "      <td>2023-03-19 08:27:57</td>\n",
       "      <td>YouTube</td>\n",
       "      <td>NaN</td>\n",
       "      <td>Searched for chú đại bi 3 biếnMar 19, 2023, 8:27:57 AM PDT</td>\n",
       "      <td>Products: YouTubeWhy is this here? This activity was saved to your Google Account because the following settings were on: YouTube search history. You can control these settings  here.</td>\n",
       "      <td>search-history.html</td>\n",
       "      <td>3 variables big ball</td>\n",
       "    </tr>\n",
       "    <tr>\n",
       "      <th>25</th>\n",
       "      <td>tử vi 19/3/2024</td>\n",
       "      <td>https://www.youtube.com/results?search_query=t%E1%BB%AD+vi+19/3/2024</td>\n",
       "      <td>Searched for</td>\n",
       "      <td>2023-03-19 07:33:21</td>\n",
       "      <td>YouTube</td>\n",
       "      <td>NaN</td>\n",
       "      <td>Searched for tử vi 19/3/2024Mar 19, 2023, 7:33:21 AM PDT</td>\n",
       "      <td>Products: YouTubeWhy is this here? This activity was saved to your Google Account because the following settings were on: YouTube search history. You can control these settings  here.</td>\n",
       "      <td>search-history.html</td>\n",
       "      <td>horoscope March 19, 2024</td>\n",
       "    </tr>\n",
       "    <tr>\n",
       "      <th>49</th>\n",
       "      <td>hồn thiêng âu lạc</td>\n",
       "      <td>https://www.youtube.com/results?search_query=h%E1%BB%93n+thi%C3%AAng+%C3%A2u+l%E1%BA%A1c</td>\n",
       "      <td>Searched for</td>\n",
       "      <td>2023-03-17 20:46:06</td>\n",
       "      <td>YouTube</td>\n",
       "      <td>NaN</td>\n",
       "      <td>Searched for hồn thiêng âu lạcMar 17, 2023, 8:46:06 PM PDT</td>\n",
       "      <td>Products: YouTubeWhy is this here? This activity was saved to your Google Account because the following settings were on: YouTube search history. You can control these settings  here.</td>\n",
       "      <td>search-history.html</td>\n",
       "      <td>auspicious soul</td>\n",
       "    </tr>\n",
       "  </tbody>\n",
       "</table>\n",
       "</div>"
      ],
      "text/plain": [
       "              video_title   \n",
       "15        tử vi 20/3/2023  \\\n",
       "18  hãy sống với tình yêu   \n",
       "22      chú đại bi 3 biến   \n",
       "25        tử vi 19/3/2024   \n",
       "49      hồn thiêng âu lạc   \n",
       "\n",
       "                                                                                                 link   \n",
       "15                               https://www.youtube.com/results?search_query=t%E1%BB%AD+vi+20/3/2023  \\\n",
       "18  https://www.youtube.com/results?search_query=h%C3%A3y+s%E1%BB%91ng+v%E1%BB%9Bi+t%C3%ACnh+y%C3%AAu   \n",
       "22           https://www.youtube.com/results?search_query=ch%C3%BA+%C4%91%E1%BA%A1i+bi+3+bi%E1%BA%BFn   \n",
       "25                               https://www.youtube.com/results?search_query=t%E1%BB%AD+vi+19/3/2024   \n",
       "49           https://www.youtube.com/results?search_query=h%E1%BB%93n+thi%C3%AAng+%C3%A2u+l%E1%BA%A1c   \n",
       "\n",
       "     content_type       date_recorded meta_data_products meta_data_details   \n",
       "15  Searched for  2023-03-19 23:05:02            YouTube               NaN  \\\n",
       "18  Searched for  2023-03-19 15:08:27            YouTube               NaN   \n",
       "22  Searched for  2023-03-19 08:27:57            YouTube               NaN   \n",
       "25  Searched for  2023-03-19 07:33:21            YouTube               NaN   \n",
       "49  Searched for  2023-03-17 20:46:06            YouTube               NaN   \n",
       "\n",
       "                                                 content_text_full   \n",
       "15       Searched for tử vi 20/3/2023Mar 19, 2023, 11:05:02 PM PDT  \\\n",
       "18  Searched for hãy sống với tình yêuMar 19, 2023, 3:08:27 PM PDT   \n",
       "22      Searched for chú đại bi 3 biếnMar 19, 2023, 8:27:57 AM PDT   \n",
       "25        Searched for tử vi 19/3/2024Mar 19, 2023, 7:33:21 AM PDT   \n",
       "49      Searched for hồn thiêng âu lạcMar 17, 2023, 8:46:06 PM PDT   \n",
       "\n",
       "                                                                                                                                                                             meta_data_full   \n",
       "15  Products: YouTubeWhy is this here? This activity was saved to your Google Account because the following settings were on: YouTube search history. You can control these settings  here.  \\\n",
       "18  Products: YouTubeWhy is this here? This activity was saved to your Google Account because the following settings were on: YouTube search history. You can control these settings  here.   \n",
       "22  Products: YouTubeWhy is this here? This activity was saved to your Google Account because the following settings were on: YouTube search history. You can control these settings  here.   \n",
       "25  Products: YouTubeWhy is this here? This activity was saved to your Google Account because the following settings were on: YouTube search history. You can control these settings  here.   \n",
       "49  Products: YouTubeWhy is this here? This activity was saved to your Google Account because the following settings were on: YouTube search history. You can control these settings  here.   \n",
       "\n",
       "                   file         translated_search  \n",
       "15  search-history.html       horoscope 20/3/2023  \n",
       "18  search-history.html            live with love  \n",
       "22  search-history.html      3 variables big ball  \n",
       "25  search-history.html  horoscope March 19, 2024  \n",
       "49  search-history.html           auspicious soul  "
      ]
     },
     "execution_count": 15,
     "metadata": {},
     "output_type": "execute_result"
    }
   ],
   "source": [
    "search_terms[\"translated_search\"]  = search_terms[\"video_title\"].apply(\n",
    "    lambda x: GoogleTranslator(source='auto', target='en').translate(text=str(x))\n",
    ")\n",
    "\n",
    "search_terms.head()"
   ]
  },
  {
   "cell_type": "code",
   "execution_count": 16,
   "id": "16f0c409",
   "metadata": {},
   "outputs": [],
   "source": [
    "search_terms.to_csv(\"../output/search_terms_only.csv\", index=False)"
   ]
  },
  {
   "cell_type": "markdown",
   "id": "bcbec221",
   "metadata": {},
   "source": [
    "#### Analyses of words in search terms and video titles "
   ]
  },
  {
   "cell_type": "code",
   "execution_count": 17,
   "id": "f963a6c1",
   "metadata": {},
   "outputs": [],
   "source": [
    "# this line uses pyvi to create word lists\n",
    "def tokenize(string): \n",
    "    return ViPosTagger.postagging(ViTokenizer.tokenize(string))[0]"
   ]
  },
  {
   "cell_type": "code",
   "execution_count": 18,
   "id": "1a8def51",
   "metadata": {},
   "outputs": [],
   "source": [
    "#turn into text:\n",
    "words = []\n",
    "for index, row in search_terms.iterrows():\n",
    "    for word in tokenize(row[\"video_title\"]):\n",
    "        words.append(word)"
   ]
  },
  {
   "cell_type": "code",
   "execution_count": 19,
   "id": "1ac4cee9",
   "metadata": {},
   "outputs": [
    {
     "data": {
      "text/html": [
       "<div>\n",
       "<style scoped>\n",
       "    .dataframe tbody tr th:only-of-type {\n",
       "        vertical-align: middle;\n",
       "    }\n",
       "\n",
       "    .dataframe tbody tr th {\n",
       "        vertical-align: top;\n",
       "    }\n",
       "\n",
       "    .dataframe thead th {\n",
       "        text-align: right;\n",
       "    }\n",
       "</style>\n",
       "<table border=\"1\" class=\"dataframe\">\n",
       "  <thead>\n",
       "    <tr style=\"text-align: right;\">\n",
       "      <th></th>\n",
       "      <th>0</th>\n",
       "    </tr>\n",
       "  </thead>\n",
       "  <tbody>\n",
       "    <tr>\n",
       "      <th>0</th>\n",
       "      <td>tử_vi</td>\n",
       "    </tr>\n",
       "    <tr>\n",
       "      <th>1</th>\n",
       "      <td>20</td>\n",
       "    </tr>\n",
       "    <tr>\n",
       "      <th>2</th>\n",
       "      <td>/</td>\n",
       "    </tr>\n",
       "    <tr>\n",
       "      <th>3</th>\n",
       "      <td>3</td>\n",
       "    </tr>\n",
       "    <tr>\n",
       "      <th>4</th>\n",
       "      <td>/</td>\n",
       "    </tr>\n",
       "  </tbody>\n",
       "</table>\n",
       "</div>"
      ],
      "text/plain": [
       "       0\n",
       "0  tử_vi\n",
       "1     20\n",
       "2      /\n",
       "3      3\n",
       "4      /"
      ]
     },
     "execution_count": 19,
     "metadata": {},
     "output_type": "execute_result"
    }
   ],
   "source": [
    "search_terms_tokens = pd.DataFrame(words)\n",
    "search_terms_tokens.head()"
   ]
  },
  {
   "cell_type": "code",
   "execution_count": 20,
   "id": "b92a3bb3",
   "metadata": {},
   "outputs": [
    {
     "data": {
      "text/html": [
       "<div>\n",
       "<style scoped>\n",
       "    .dataframe tbody tr th:only-of-type {\n",
       "        vertical-align: middle;\n",
       "    }\n",
       "\n",
       "    .dataframe tbody tr th {\n",
       "        vertical-align: top;\n",
       "    }\n",
       "\n",
       "    .dataframe thead th {\n",
       "        text-align: right;\n",
       "    }\n",
       "</style>\n",
       "<table border=\"1\" class=\"dataframe\">\n",
       "  <thead>\n",
       "    <tr style=\"text-align: right;\">\n",
       "      <th></th>\n",
       "      <th>word</th>\n",
       "      <th>count</th>\n",
       "    </tr>\n",
       "  </thead>\n",
       "  <tbody>\n",
       "    <tr>\n",
       "      <th>0</th>\n",
       "      <td>/</td>\n",
       "      <td>24</td>\n",
       "    </tr>\n",
       "    <tr>\n",
       "      <th>1</th>\n",
       "      <td>Tử_vi</td>\n",
       "      <td>11</td>\n",
       "    </tr>\n",
       "    <tr>\n",
       "      <th>2</th>\n",
       "      <td>bi</td>\n",
       "      <td>10</td>\n",
       "    </tr>\n",
       "    <tr>\n",
       "      <th>3</th>\n",
       "      <td>dai</td>\n",
       "      <td>7</td>\n",
       "    </tr>\n",
       "    <tr>\n",
       "      <th>4</th>\n",
       "      <td>ba</td>\n",
       "      <td>7</td>\n",
       "    </tr>\n",
       "  </tbody>\n",
       "</table>\n",
       "</div>"
      ],
      "text/plain": [
       "    word  count\n",
       "0      /     24\n",
       "1  Tử_vi     11\n",
       "2     bi     10\n",
       "3    dai      7\n",
       "4     ba      7"
      ]
     },
     "execution_count": 20,
     "metadata": {},
     "output_type": "execute_result"
    }
   ],
   "source": [
    "search_terms_analysis = search_terms_tokens[0].value_counts().reset_index().rename(columns={0:\"word\"})\n",
    "search_terms_analysis.head()"
   ]
  },
  {
   "cell_type": "code",
   "execution_count": 21,
   "id": "03fa3fbf",
   "metadata": {},
   "outputs": [],
   "source": [
    "search_terms_analysis[\"cleaned_word\"]=search_terms_analysis[\"word\"].apply(lambda x: x.replace(\"_\", \" \"))"
   ]
  },
  {
   "cell_type": "code",
   "execution_count": 22,
   "id": "c7e58a7b",
   "metadata": {},
   "outputs": [
    {
     "data": {
      "text/html": [
       "<div>\n",
       "<style scoped>\n",
       "    .dataframe tbody tr th:only-of-type {\n",
       "        vertical-align: middle;\n",
       "    }\n",
       "\n",
       "    .dataframe tbody tr th {\n",
       "        vertical-align: top;\n",
       "    }\n",
       "\n",
       "    .dataframe thead th {\n",
       "        text-align: right;\n",
       "    }\n",
       "</style>\n",
       "<table border=\"1\" class=\"dataframe\">\n",
       "  <thead>\n",
       "    <tr style=\"text-align: right;\">\n",
       "      <th></th>\n",
       "      <th>word</th>\n",
       "      <th>count</th>\n",
       "      <th>cleaned_word</th>\n",
       "    </tr>\n",
       "  </thead>\n",
       "  <tbody>\n",
       "    <tr>\n",
       "      <th>0</th>\n",
       "      <td>/</td>\n",
       "      <td>24</td>\n",
       "      <td>/</td>\n",
       "    </tr>\n",
       "    <tr>\n",
       "      <th>1</th>\n",
       "      <td>Tử_vi</td>\n",
       "      <td>11</td>\n",
       "      <td>Tử vi</td>\n",
       "    </tr>\n",
       "    <tr>\n",
       "      <th>2</th>\n",
       "      <td>bi</td>\n",
       "      <td>10</td>\n",
       "      <td>bi</td>\n",
       "    </tr>\n",
       "    <tr>\n",
       "      <th>3</th>\n",
       "      <td>dai</td>\n",
       "      <td>7</td>\n",
       "      <td>dai</td>\n",
       "    </tr>\n",
       "    <tr>\n",
       "      <th>4</th>\n",
       "      <td>ba</td>\n",
       "      <td>7</td>\n",
       "      <td>ba</td>\n",
       "    </tr>\n",
       "  </tbody>\n",
       "</table>\n",
       "</div>"
      ],
      "text/plain": [
       "    word  count cleaned_word\n",
       "0      /     24            /\n",
       "1  Tử_vi     11        Tử vi\n",
       "2     bi     10           bi\n",
       "3    dai      7          dai\n",
       "4     ba      7           ba"
      ]
     },
     "execution_count": 22,
     "metadata": {},
     "output_type": "execute_result"
    }
   ],
   "source": [
    "search_terms_analysis.head()"
   ]
  },
  {
   "cell_type": "markdown",
   "id": "2ebb236c",
   "metadata": {},
   "source": [
    "#### The following cells use `deep-translator`'s Google Translator functionality to translate each word"
   ]
  },
  {
   "cell_type": "code",
   "execution_count": 24,
   "id": "4ae9a960",
   "metadata": {},
   "outputs": [],
   "source": [
    "def translateString(string):\n",
    "    if re.search('[a-zA-Z]', string):\n",
    "        return GoogleTranslator(source='auto', target='en').translate(text=str(string))\n",
    "    else: \n",
    "        return string\n"
   ]
  },
  {
   "cell_type": "code",
   "execution_count": 25,
   "id": "0bb0fb6f",
   "metadata": {},
   "outputs": [],
   "source": [
    "search_terms_analysis[\"translated_word\"]=search_terms_analysis[\"cleaned_word\"].apply(translateString)\n"
   ]
  },
  {
   "cell_type": "code",
   "execution_count": 26,
   "id": "57c965e9",
   "metadata": {},
   "outputs": [
    {
     "data": {
      "text/html": [
       "<div>\n",
       "<style scoped>\n",
       "    .dataframe tbody tr th:only-of-type {\n",
       "        vertical-align: middle;\n",
       "    }\n",
       "\n",
       "    .dataframe tbody tr th {\n",
       "        vertical-align: top;\n",
       "    }\n",
       "\n",
       "    .dataframe thead th {\n",
       "        text-align: right;\n",
       "    }\n",
       "</style>\n",
       "<table border=\"1\" class=\"dataframe\">\n",
       "  <thead>\n",
       "    <tr style=\"text-align: right;\">\n",
       "      <th></th>\n",
       "      <th>word</th>\n",
       "      <th>count</th>\n",
       "      <th>cleaned_word</th>\n",
       "      <th>translated_word</th>\n",
       "    </tr>\n",
       "  </thead>\n",
       "  <tbody>\n",
       "    <tr>\n",
       "      <th>0</th>\n",
       "      <td>/</td>\n",
       "      <td>24</td>\n",
       "      <td>/</td>\n",
       "      <td>/</td>\n",
       "    </tr>\n",
       "    <tr>\n",
       "      <th>1</th>\n",
       "      <td>Tử_vi</td>\n",
       "      <td>11</td>\n",
       "      <td>Tử vi</td>\n",
       "      <td>Horoscope</td>\n",
       "    </tr>\n",
       "    <tr>\n",
       "      <th>2</th>\n",
       "      <td>bi</td>\n",
       "      <td>10</td>\n",
       "      <td>bi</td>\n",
       "      <td>bi</td>\n",
       "    </tr>\n",
       "    <tr>\n",
       "      <th>3</th>\n",
       "      <td>dai</td>\n",
       "      <td>7</td>\n",
       "      <td>dai</td>\n",
       "      <td>dai</td>\n",
       "    </tr>\n",
       "    <tr>\n",
       "      <th>4</th>\n",
       "      <td>ba</td>\n",
       "      <td>7</td>\n",
       "      <td>ba</td>\n",
       "      <td>ba</td>\n",
       "    </tr>\n",
       "    <tr>\n",
       "      <th>5</th>\n",
       "      <td>karaoke</td>\n",
       "      <td>7</td>\n",
       "      <td>karaoke</td>\n",
       "      <td>karaoke</td>\n",
       "    </tr>\n",
       "    <tr>\n",
       "      <th>6</th>\n",
       "      <td>âm_lịch</td>\n",
       "      <td>7</td>\n",
       "      <td>âm lịch</td>\n",
       "      <td>lunar calendar</td>\n",
       "    </tr>\n",
       "    <tr>\n",
       "      <th>7</th>\n",
       "      <td>2020</td>\n",
       "      <td>7</td>\n",
       "      <td>2020</td>\n",
       "      <td>2020</td>\n",
       "    </tr>\n",
       "    <tr>\n",
       "      <th>8</th>\n",
       "      <td>1</td>\n",
       "      <td>7</td>\n",
       "      <td>1</td>\n",
       "      <td>1</td>\n",
       "    </tr>\n",
       "    <tr>\n",
       "      <th>9</th>\n",
       "      <td>đinh</td>\n",
       "      <td>6</td>\n",
       "      <td>đinh</td>\n",
       "      <td>nail</td>\n",
       "    </tr>\n",
       "  </tbody>\n",
       "</table>\n",
       "</div>"
      ],
      "text/plain": [
       "      word  count cleaned_word translated_word\n",
       "0        /     24            /               /\n",
       "1    Tử_vi     11        Tử vi       Horoscope\n",
       "2       bi     10           bi              bi\n",
       "3      dai      7          dai             dai\n",
       "4       ba      7           ba              ba\n",
       "5  karaoke      7      karaoke         karaoke\n",
       "6  âm_lịch      7      âm lịch  lunar calendar\n",
       "7     2020      7         2020            2020\n",
       "8        1      7            1               1\n",
       "9     đinh      6         đinh            nail"
      ]
     },
     "execution_count": 26,
     "metadata": {},
     "output_type": "execute_result"
    }
   ],
   "source": [
    "search_terms_analysis.head(10)"
   ]
  },
  {
   "cell_type": "code",
   "execution_count": 27,
   "id": "4dfdc5c9",
   "metadata": {},
   "outputs": [],
   "source": [
    "search_terms_analysis.to_csv(\"../output/search_terms_analysis.csv\")\n"
   ]
  },
  {
   "cell_type": "markdown",
   "id": "6ac7ad4d",
   "metadata": {},
   "source": [
    "#### Find trends in video searches"
   ]
  },
  {
   "cell_type": "code",
   "execution_count": 28,
   "id": "376ed09a",
   "metadata": {},
   "outputs": [],
   "source": [
    "search_terms_daily_tallies = search_terms.set_index(\"date_recorded\").resample(\"D\")[\"video_title\"].count()"
   ]
  },
  {
   "cell_type": "code",
   "execution_count": 29,
   "id": "4e701578",
   "metadata": {},
   "outputs": [
    {
     "data": {
      "text/plain": [
       "date_recorded\n",
       "2020-01-08    1\n",
       "2020-01-09    0\n",
       "2020-01-10    1\n",
       "2020-01-11    1\n",
       "2020-01-12    2\n",
       "             ..\n",
       "2023-03-15    0\n",
       "2023-03-16    0\n",
       "2023-03-17    4\n",
       "2023-03-18    0\n",
       "2023-03-19    4\n",
       "Freq: D, Name: video_title, Length: 1167, dtype: int64"
      ]
     },
     "execution_count": 29,
     "metadata": {},
     "output_type": "execute_result"
    }
   ],
   "source": [
    "search_terms_daily_tallies"
   ]
  },
  {
   "cell_type": "code",
   "execution_count": 30,
   "id": "00214d48",
   "metadata": {},
   "outputs": [],
   "source": [
    "search_terms_daily_tallies.to_csv(\"../output/search_terms_daily_tallies.csv\")"
   ]
  },
  {
   "cell_type": "code",
   "execution_count": 31,
   "id": "b478a344",
   "metadata": {},
   "outputs": [
    {
     "data": {
      "text/plain": [
       "<Axes: xlabel='date_recorded'>"
      ]
     },
     "execution_count": 31,
     "metadata": {},
     "output_type": "execute_result"
    },
    {
     "data": {
      "image/png": "[encoded data removed]",
      "text/plain": [
       "<Figure size 640x480 with 1 Axes>"
      ]
     },
     "metadata": {},
     "output_type": "display_data"
    }
   ],
   "source": [
    "search_terms_daily_tallies.plot()"
   ]
  },
  {
   "cell_type": "markdown",
   "id": "30cb601a",
   "metadata": {},
   "source": [
    "#### Specific to Google Ads:\n",
    "- repeat videos\n",
    "- NLP, such as words most often used\n",
    "- Time-related trends"
   ]
  },
  {
   "cell_type": "code",
   "execution_count": 32,
   "id": "76fa516d",
   "metadata": {},
   "outputs": [
    {
     "data": {
      "text/html": [
       "<div>\n",
       "<style scoped>\n",
       "    .dataframe tbody tr th:only-of-type {\n",
       "        vertical-align: middle;\n",
       "    }\n",
       "\n",
       "    .dataframe tbody tr th {\n",
       "        vertical-align: top;\n",
       "    }\n",
       "\n",
       "    .dataframe thead th {\n",
       "        text-align: right;\n",
       "    }\n",
       "</style>\n",
       "<table border=\"1\" class=\"dataframe\">\n",
       "  <thead>\n",
       "    <tr style=\"text-align: right;\">\n",
       "      <th></th>\n",
       "      <th>video_title</th>\n",
       "      <th>link</th>\n",
       "      <th>file</th>\n",
       "    </tr>\n",
       "  </thead>\n",
       "  <tbody>\n",
       "    <tr>\n",
       "      <th>3374</th>\n",
       "      <td>https://www.youtube.com/watch?v=Nf1_Wj6Er6Q</td>\n",
       "      <td>https://www.youtube.com/watch?v=Nf1_Wj6Er6Q</td>\n",
       "      <td>47</td>\n",
       "    </tr>\n",
       "    <tr>\n",
       "      <th>627</th>\n",
       "      <td>Cared For | A Thousand Things | Sutter Health</td>\n",
       "      <td>https://www.youtube.com/watch?v=9TUqqE7nyjk</td>\n",
       "      <td>46</td>\n",
       "    </tr>\n",
       "    <tr>\n",
       "      <th>806</th>\n",
       "      <td>Dinosaur Stickers | A Thousand Things | Sutter Health</td>\n",
       "      <td>https://www.youtube.com/watch?v=AN-yzocDAVQ</td>\n",
       "      <td>45</td>\n",
       "    </tr>\n",
       "    <tr>\n",
       "      <th>1295</th>\n",
       "      <td>Health and Finances | Medicare Solutions | Mutual of Omaha</td>\n",
       "      <td>https://www.youtube.com/watch?v=A36S38MtKNE</td>\n",
       "      <td>29</td>\n",
       "    </tr>\n",
       "    <tr>\n",
       "      <th>3284</th>\n",
       "      <td>https://www.youtube.com/watch?v=</td>\n",
       "      <td>https://www.youtube.com/watch?v=</td>\n",
       "      <td>24</td>\n",
       "    </tr>\n",
       "    <tr>\n",
       "      <th>2097</th>\n",
       "      <td>Peace of Mind | A Thousand Things | Sutter Health</td>\n",
       "      <td>https://www.youtube.com/watch?v=y1BwiwC9M3o</td>\n",
       "      <td>21</td>\n",
       "    </tr>\n",
       "    <tr>\n",
       "      <th>295</th>\n",
       "      <td>Advancements | A Thousand Things | Sutter Health</td>\n",
       "      <td>https://www.youtube.com/watch?v=ym5hgVaGsuo</td>\n",
       "      <td>21</td>\n",
       "    </tr>\n",
       "    <tr>\n",
       "      <th>2714</th>\n",
       "      <td>Three Ways to Recycle in California</td>\n",
       "      <td>https://www.youtube.com/watch?v=nrPnM4-OSE0</td>\n",
       "      <td>20</td>\n",
       "    </tr>\n",
       "    <tr>\n",
       "      <th>837</th>\n",
       "      <td>Drive Dry Eye Away</td>\n",
       "      <td>https://www.youtube.com/watch?v=_2UObKMDyfY</td>\n",
       "      <td>19</td>\n",
       "    </tr>\n",
       "    <tr>\n",
       "      <th>66</th>\n",
       "      <td>15s  16x9 HOST IttyBitty US ENG OLV</td>\n",
       "      <td>https://www.youtube.com/watch?v=1mFKVsJ9-rA</td>\n",
       "      <td>18</td>\n",
       "    </tr>\n",
       "  </tbody>\n",
       "</table>\n",
       "</div>"
      ],
      "text/plain": [
       "                                                     video_title   \n",
       "3374                 https://www.youtube.com/watch?v=Nf1_Wj6Er6Q  \\\n",
       "627                Cared For | A Thousand Things | Sutter Health   \n",
       "806        Dinosaur Stickers | A Thousand Things | Sutter Health   \n",
       "1295  Health and Finances | Medicare Solutions | Mutual of Omaha   \n",
       "3284                            https://www.youtube.com/watch?v=   \n",
       "2097           Peace of Mind | A Thousand Things | Sutter Health   \n",
       "295             Advancements | A Thousand Things | Sutter Health   \n",
       "2714                         Three Ways to Recycle in California   \n",
       "837                                           Drive Dry Eye Away   \n",
       "66                           15s  16x9 HOST IttyBitty US ENG OLV   \n",
       "\n",
       "                                             link  file  \n",
       "3374  https://www.youtube.com/watch?v=Nf1_Wj6Er6Q    47  \n",
       "627   https://www.youtube.com/watch?v=9TUqqE7nyjk    46  \n",
       "806   https://www.youtube.com/watch?v=AN-yzocDAVQ    45  \n",
       "1295  https://www.youtube.com/watch?v=A36S38MtKNE    29  \n",
       "3284             https://www.youtube.com/watch?v=    24  \n",
       "2097  https://www.youtube.com/watch?v=y1BwiwC9M3o    21  \n",
       "295   https://www.youtube.com/watch?v=ym5hgVaGsuo    21  \n",
       "2714  https://www.youtube.com/watch?v=nrPnM4-OSE0    20  \n",
       "837   https://www.youtube.com/watch?v=_2UObKMDyfY    19  \n",
       "66    https://www.youtube.com/watch?v=1mFKVsJ9-rA    18  "
      ]
     },
     "execution_count": 32,
     "metadata": {},
     "output_type": "execute_result"
    }
   ],
   "source": [
    "most_watched_ads = watch_history_ads_only.groupby([\"video_title\", \"link\" ]).agg({\n",
    "    \"file\":\"count\"\n",
    "}).reset_index(\n",
    ").sort_values(\n",
    "    by=[\"file\"],\n",
    "    ascending=False\n",
    ")\n",
    "\n",
    "most_watched_ads.head(10)"
   ]
  },
  {
   "cell_type": "code",
   "execution_count": 33,
   "id": "53ae0f0a",
   "metadata": {},
   "outputs": [],
   "source": [
    "most_watched_ads.to_csv(\"../output/most_watched_ads.csv\", index=False)"
   ]
  },
  {
   "cell_type": "code",
   "execution_count": 34,
   "id": "f9603456",
   "metadata": {},
   "outputs": [
    {
     "name": "stdout",
     "output_type": "stream",
     "text": [
      "5955 3554\n"
     ]
    }
   ],
   "source": [
    "watch_history_ads_only.to_csv(\"../output/watch_history_ads_only.csv\", index=False)\n",
    "\n",
    "print(\n",
    "    len(watch_history_ads_only),\n",
    "    len(most_watched_ads)\n",
    ")"
   ]
  },
  {
   "cell_type": "markdown",
   "id": "57655af1",
   "metadata": {},
   "source": [
    "#### Time related trends"
   ]
  },
  {
   "cell_type": "code",
   "execution_count": 35,
   "id": "1862fb7f",
   "metadata": {},
   "outputs": [],
   "source": [
    "watch_history_ads_only_daily_tallies = watch_history_ads_only.set_index(\"date_recorded\").resample(\"D\")[\"video_title\"].count()"
   ]
  },
  {
   "cell_type": "code",
   "execution_count": 36,
   "id": "b1dc0f38",
   "metadata": {},
   "outputs": [
    {
     "data": {
      "text/plain": [
       "date_recorded\n",
       "2020-04-08     1\n",
       "2020-04-09     0\n",
       "2020-04-10     0\n",
       "2020-04-11     0\n",
       "2020-04-12     0\n",
       "              ..\n",
       "2023-03-17    27\n",
       "2023-03-18    11\n",
       "2023-03-19    14\n",
       "2023-03-20    10\n",
       "2023-03-21     4\n",
       "Freq: D, Name: video_title, Length: 1078, dtype: int64"
      ]
     },
     "execution_count": 36,
     "metadata": {},
     "output_type": "execute_result"
    }
   ],
   "source": [
    "watch_history_ads_only_daily_tallies "
   ]
  },
  {
   "cell_type": "code",
   "execution_count": 37,
   "id": "9265bb54",
   "metadata": {},
   "outputs": [],
   "source": [
    "watch_history_ads_only_daily_tallies.to_csv(\"../output/watch_history_ads_only_daily_tallies.csv\")"
   ]
  },
  {
   "cell_type": "code",
   "execution_count": 38,
   "id": "2ec1381d",
   "metadata": {},
   "outputs": [],
   "source": [
    "watch_history_ads_onlyhourly_tallies = watch_history_ads_only.set_index(\"date_recorded\").resample(\"H\")[\"video_title\"].count()"
   ]
  },
  {
   "cell_type": "code",
   "execution_count": 39,
   "id": "f81b77f0",
   "metadata": {},
   "outputs": [
    {
     "data": {
      "text/plain": [
       "date_recorded\n",
       "2020-04-08 08:00:00    1\n",
       "2020-04-08 09:00:00    0\n",
       "2020-04-08 10:00:00    0\n",
       "2020-04-08 11:00:00    0\n",
       "2020-04-08 12:00:00    0\n",
       "                      ..\n",
       "2023-03-21 14:00:00    0\n",
       "2023-03-21 15:00:00    0\n",
       "2023-03-21 16:00:00    0\n",
       "2023-03-21 17:00:00    0\n",
       "2023-03-21 18:00:00    4\n",
       "Freq: H, Name: video_title, Length: 25859, dtype: int64"
      ]
     },
     "execution_count": 39,
     "metadata": {},
     "output_type": "execute_result"
    }
   ],
   "source": [
    "watch_history_ads_onlyhourly_tallies"
   ]
  },
  {
   "cell_type": "markdown",
   "id": "8d1f4a8c",
   "metadata": {},
   "source": [
    "#### Specific to non-ad views:\n",
    "\n",
    "- repeat videos\n",
    "- NLP, such as words most often used\n",
    "- Time-related trends"
   ]
  },
  {
   "cell_type": "code",
   "execution_count": 40,
   "id": "f375dd40",
   "metadata": {},
   "outputs": [
    {
     "data": {
      "text/html": [
       "<div>\n",
       "<style scoped>\n",
       "    .dataframe tbody tr th:only-of-type {\n",
       "        vertical-align: middle;\n",
       "    }\n",
       "\n",
       "    .dataframe tbody tr th {\n",
       "        vertical-align: top;\n",
       "    }\n",
       "\n",
       "    .dataframe thead th {\n",
       "        text-align: right;\n",
       "    }\n",
       "</style>\n",
       "<table border=\"1\" class=\"dataframe\">\n",
       "  <thead>\n",
       "    <tr style=\"text-align: right;\">\n",
       "      <th></th>\n",
       "      <th>video_title</th>\n",
       "      <th>link</th>\n",
       "      <th>date_recorded</th>\n",
       "      <th>meta_data_products</th>\n",
       "      <th>meta_data_details</th>\n",
       "      <th>content_text_full</th>\n",
       "      <th>meta_data_full</th>\n",
       "      <th>file</th>\n",
       "    </tr>\n",
       "  </thead>\n",
       "  <tbody>\n",
       "    <tr>\n",
       "      <th>0</th>\n",
       "      <td>QUẢ BÁO: Phe dân chủ vờ đánh Trump để chạy tội cho Joe Biden nhưng thất bại ô nhục</td>\n",
       "      <td>https://www.youtube.com/watch?v=ESHlO51BO5Q</td>\n",
       "      <td>2023-03-21 18:44:29</td>\n",
       "      <td>YouTube</td>\n",
       "      <td>NaN</td>\n",
       "      <td>Watched QUẢ BÁO: Phe dân chủ vờ đánh Trump để chạy tội cho Joe Biden nhưng thất bại ô nhụcSaigon NewsMar 21, 2023, 6:44:29 PM PDT</td>\n",
       "      <td>Products: YouTubeWhy is this here? This activity was saved to your Google Account because the following settings were on: YouTube watch history. You can control these settings  here.</td>\n",
       "      <td>search-history.html</td>\n",
       "    </tr>\n",
       "  </tbody>\n",
       "</table>\n",
       "</div>"
      ],
      "text/plain": [
       "                                                                                         video_title   \n",
       "0  QUẢ BÁO: Phe dân chủ vờ đánh Trump để chạy tội cho Joe Biden nhưng thất bại ô nhục  \\\n",
       "\n",
       "                                          link       date_recorded   \n",
       "0  https://www.youtube.com/watch?v=ESHlO51BO5Q 2023-03-21 18:44:29  \\\n",
       "\n",
       "  meta_data_products meta_data_details   \n",
       "0            YouTube               NaN  \\\n",
       "\n",
       "                                                                                                                                  content_text_full   \n",
       "0  Watched QUẢ BÁO: Phe dân chủ vờ đánh Trump để chạy tội cho Joe Biden nhưng thất bại ô nhụcSaigon NewsMar 21, 2023, 6:44:29 PM PDT  \\\n",
       "\n",
       "                                                                                                                                                                           meta_data_full   \n",
       "0  Products: YouTubeWhy is this here? This activity was saved to your Google Account because the following settings were on: YouTube watch history. You can control these settings  here.  \\\n",
       "\n",
       "                  file  \n",
       "0  search-history.html  "
      ]
     },
     "execution_count": 40,
     "metadata": {},
     "output_type": "execute_result"
    }
   ],
   "source": [
    "watch_history_sm_no_ads.head(1)"
   ]
  },
  {
   "cell_type": "code",
   "execution_count": 41,
   "id": "3c7fdf7f",
   "metadata": {},
   "outputs": [
    {
     "data": {
      "text/html": [
       "<div>\n",
       "<style scoped>\n",
       "    .dataframe tbody tr th:only-of-type {\n",
       "        vertical-align: middle;\n",
       "    }\n",
       "\n",
       "    .dataframe tbody tr th {\n",
       "        vertical-align: top;\n",
       "    }\n",
       "\n",
       "    .dataframe thead th {\n",
       "        text-align: right;\n",
       "    }\n",
       "</style>\n",
       "<table border=\"1\" class=\"dataframe\">\n",
       "  <thead>\n",
       "    <tr style=\"text-align: right;\">\n",
       "      <th></th>\n",
       "      <th>video_title</th>\n",
       "      <th>link</th>\n",
       "      <th>file</th>\n",
       "    </tr>\n",
       "  </thead>\n",
       "  <tbody>\n",
       "    <tr>\n",
       "      <th>1381</th>\n",
       "      <td>Chú Đại Bi 3 Biến _ Phiên Bản 2019</td>\n",
       "      <td>https://www.youtube.com/watch?v=N5VO28Bdj7Q</td>\n",
       "      <td>133</td>\n",
       "    </tr>\n",
       "    <tr>\n",
       "      <th>6485</th>\n",
       "      <td>TỤNG CHÚ ĐẠI BI 3 BIẾN CHỮ LỚN DỄ ĐỌC VÀ TĂNG PHƯỚC ĐỨC</td>\n",
       "      <td>https://www.youtube.com/watch?v=MuYpwidWKuI</td>\n",
       "      <td>78</td>\n",
       "    </tr>\n",
       "    <tr>\n",
       "      <th>8311</th>\n",
       "      <td>https://www.youtube.com/watch?v=r-vT4l_SsiQ</td>\n",
       "      <td>https://www.youtube.com/watch?v=r-vT4l_SsiQ</td>\n",
       "      <td>56</td>\n",
       "    </tr>\n",
       "    <tr>\n",
       "      <th>3891</th>\n",
       "      <td>Nghe Nhạc Niệm Phật Mẹ Quán Âm Bồ Tát- Giúp tai qua nạn khỏi- Mọi chuyện suôn sẻ, gặp nhiều may mắn!</td>\n",
       "      <td>https://www.youtube.com/watch?v=RLxV3T2b524</td>\n",
       "      <td>49</td>\n",
       "    </tr>\n",
       "    <tr>\n",
       "      <th>1386</th>\n",
       "      <td>Chú Đại Bi 7 biến - thầy Thích Trí Thoát tụng NHANH có CHỮ - Nguyện hồi hướng công đức phước báu</td>\n",
       "      <td>https://www.youtube.com/watch?v=sgHTqOXf24Q</td>\n",
       "      <td>46</td>\n",
       "    </tr>\n",
       "  </tbody>\n",
       "</table>\n",
       "</div>"
      ],
      "text/plain": [
       "                                                                                               video_title   \n",
       "1381                                                                    Chú Đại Bi 3 Biến _ Phiên Bản 2019  \\\n",
       "6485                                               TỤNG CHÚ ĐẠI BI 3 BIẾN CHỮ LỚN DỄ ĐỌC VÀ TĂNG PHƯỚC ĐỨC   \n",
       "8311                                                           https://www.youtube.com/watch?v=r-vT4l_SsiQ   \n",
       "3891  Nghe Nhạc Niệm Phật Mẹ Quán Âm Bồ Tát- Giúp tai qua nạn khỏi- Mọi chuyện suôn sẻ, gặp nhiều may mắn!   \n",
       "1386      Chú Đại Bi 7 biến - thầy Thích Trí Thoát tụng NHANH có CHỮ - Nguyện hồi hướng công đức phước báu   \n",
       "\n",
       "                                             link  file  \n",
       "1381  https://www.youtube.com/watch?v=N5VO28Bdj7Q   133  \n",
       "6485  https://www.youtube.com/watch?v=MuYpwidWKuI    78  \n",
       "8311  https://www.youtube.com/watch?v=r-vT4l_SsiQ    56  \n",
       "3891  https://www.youtube.com/watch?v=RLxV3T2b524    49  \n",
       "1386  https://www.youtube.com/watch?v=sgHTqOXf24Q    46  "
      ]
     },
     "execution_count": 41,
     "metadata": {},
     "output_type": "execute_result"
    }
   ],
   "source": [
    "watch_history_sm_no_ads_tallies = watch_history_sm_no_ads.groupby([\"video_title\", \"link\" ]).agg({\n",
    "    \"file\":\"count\"\n",
    "}).reset_index(\n",
    ").sort_values(\n",
    "    by=[\"file\"],\n",
    "    ascending=False\n",
    ")\n",
    "\n",
    "watch_history_sm_no_ads_tallies.head()"
   ]
  },
  {
   "cell_type": "code",
   "execution_count": 42,
   "id": "8a760215",
   "metadata": {},
   "outputs": [
    {
     "data": {
      "text/html": [
       "<div>\n",
       "<style scoped>\n",
       "    .dataframe tbody tr th:only-of-type {\n",
       "        vertical-align: middle;\n",
       "    }\n",
       "\n",
       "    .dataframe tbody tr th {\n",
       "        vertical-align: top;\n",
       "    }\n",
       "\n",
       "    .dataframe thead th {\n",
       "        text-align: right;\n",
       "    }\n",
       "</style>\n",
       "<table border=\"1\" class=\"dataframe\">\n",
       "  <thead>\n",
       "    <tr style=\"text-align: right;\">\n",
       "      <th></th>\n",
       "      <th>video_title</th>\n",
       "      <th>link</th>\n",
       "      <th>file</th>\n",
       "    </tr>\n",
       "  </thead>\n",
       "  <tbody>\n",
       "    <tr>\n",
       "      <th>1381</th>\n",
       "      <td>Chú Đại Bi 3 Biến _ Phiên Bản 2019</td>\n",
       "      <td>https://www.youtube.com/watch?v=N5VO28Bdj7Q</td>\n",
       "      <td>133</td>\n",
       "    </tr>\n",
       "    <tr>\n",
       "      <th>6485</th>\n",
       "      <td>TỤNG CHÚ ĐẠI BI 3 BIẾN CHỮ LỚN DỄ ĐỌC VÀ TĂNG PHƯỚC ĐỨC</td>\n",
       "      <td>https://www.youtube.com/watch?v=MuYpwidWKuI</td>\n",
       "      <td>78</td>\n",
       "    </tr>\n",
       "    <tr>\n",
       "      <th>8311</th>\n",
       "      <td>https://www.youtube.com/watch?v=r-vT4l_SsiQ</td>\n",
       "      <td>https://www.youtube.com/watch?v=r-vT4l_SsiQ</td>\n",
       "      <td>56</td>\n",
       "    </tr>\n",
       "    <tr>\n",
       "      <th>3891</th>\n",
       "      <td>Nghe Nhạc Niệm Phật Mẹ Quán Âm Bồ Tát- Giúp tai qua nạn khỏi- Mọi chuyện suôn sẻ, gặp nhiều may mắn!</td>\n",
       "      <td>https://www.youtube.com/watch?v=RLxV3T2b524</td>\n",
       "      <td>49</td>\n",
       "    </tr>\n",
       "    <tr>\n",
       "      <th>1386</th>\n",
       "      <td>Chú Đại Bi 7 biến - thầy Thích Trí Thoát tụng NHANH có CHỮ - Nguyện hồi hướng công đức phước báu</td>\n",
       "      <td>https://www.youtube.com/watch?v=sgHTqOXf24Q</td>\n",
       "      <td>46</td>\n",
       "    </tr>\n",
       "  </tbody>\n",
       "</table>\n",
       "</div>"
      ],
      "text/plain": [
       "                                                                                               video_title   \n",
       "1381                                                                    Chú Đại Bi 3 Biến _ Phiên Bản 2019  \\\n",
       "6485                                               TỤNG CHÚ ĐẠI BI 3 BIẾN CHỮ LỚN DỄ ĐỌC VÀ TĂNG PHƯỚC ĐỨC   \n",
       "8311                                                           https://www.youtube.com/watch?v=r-vT4l_SsiQ   \n",
       "3891  Nghe Nhạc Niệm Phật Mẹ Quán Âm Bồ Tát- Giúp tai qua nạn khỏi- Mọi chuyện suôn sẻ, gặp nhiều may mắn!   \n",
       "1386      Chú Đại Bi 7 biến - thầy Thích Trí Thoát tụng NHANH có CHỮ - Nguyện hồi hướng công đức phước báu   \n",
       "\n",
       "                                             link  file  \n",
       "1381  https://www.youtube.com/watch?v=N5VO28Bdj7Q   133  \n",
       "6485  https://www.youtube.com/watch?v=MuYpwidWKuI    78  \n",
       "8311  https://www.youtube.com/watch?v=r-vT4l_SsiQ    56  \n",
       "3891  https://www.youtube.com/watch?v=RLxV3T2b524    49  \n",
       "1386  https://www.youtube.com/watch?v=sgHTqOXf24Q    46  "
      ]
     },
     "execution_count": 42,
     "metadata": {},
     "output_type": "execute_result"
    }
   ],
   "source": [
    "\n",
    "watch_history_sm_no_ads_tallies.head()"
   ]
  },
  {
   "cell_type": "code",
   "execution_count": 43,
   "id": "c66def1f",
   "metadata": {},
   "outputs": [
    {
     "data": {
      "text/plain": [
       "9540"
      ]
     },
     "execution_count": 43,
     "metadata": {},
     "output_type": "execute_result"
    }
   ],
   "source": [
    "len(watch_history_sm_no_ads_tallies)"
   ]
  },
  {
   "cell_type": "code",
   "execution_count": 44,
   "id": "6c6d7f00",
   "metadata": {},
   "outputs": [],
   "source": [
    "watch_history_sm_no_ads_tallies.to_csv(\"../output/most_watched_videos.csv\", index=False)"
   ]
  },
  {
   "cell_type": "markdown",
   "id": "e7fdef76",
   "metadata": {},
   "source": [
    "#### Translate only the top 1000 watched videos \n",
    "This is done to avoid errors due to rate limiting"
   ]
  },
  {
   "cell_type": "code",
   "execution_count": null,
   "id": "1d02f485",
   "metadata": {},
   "outputs": [],
   "source": [
    "def translateTitle(string):\n",
    "    return GoogleTranslator(source='auto', target='en').translate(text=str(string))\n",
    "\n",
    "top1000 = watch_history_sm_no_ads_tallies[0:999]\n",
    "top1000[\"translated_title\"] = top1000[\"video_title\"].apply(translateTitle)\n"
   ]
  },
  {
   "cell_type": "code",
   "execution_count": null,
   "id": "e27a04f7",
   "metadata": {},
   "outputs": [],
   "source": [
    "top1000.head()"
   ]
  },
  {
   "cell_type": "code",
   "execution_count": null,
   "id": "7c629eab",
   "metadata": {},
   "outputs": [],
   "source": [
    "top1000.to_csv(\"../output/top1000.csv\", index=False)"
   ]
  },
  {
   "cell_type": "markdown",
   "id": "8decc2c7",
   "metadata": {},
   "source": [
    "#### Create word count list for the watch history"
   ]
  },
  {
   "cell_type": "code",
   "execution_count": null,
   "id": "8edaa667",
   "metadata": {},
   "outputs": [],
   "source": [
    "#turn into text:\n",
    "video_title_words = []\n",
    "for index, row in watch_history_sm_no_ads_tallies.iterrows():\n",
    "    for word in tokenize(row[\"video_title\"]):\n",
    "        video_title_words.append(word)"
   ]
  },
  {
   "cell_type": "code",
   "execution_count": null,
   "id": "e6e037f3",
   "metadata": {},
   "outputs": [],
   "source": [
    "video_title_tokens = pd.DataFrame(video_title_words).rename(columns={0:\"word\"})\n",
    "video_title_tokens.head()"
   ]
  },
  {
   "cell_type": "code",
   "execution_count": null,
   "id": "895315fb",
   "metadata": {},
   "outputs": [],
   "source": [
    "watched_videos_word_analysis = video_title_tokens[\"word\"].value_counts().reset_index()\n",
    "watched_videos_word_analysis.to_csv(\"../output/watched_videos_word_analysis.csv\")\n",
    "watched_videos_word_analysis.head()"
   ]
  },
  {
   "cell_type": "markdown",
   "id": "5b85ca8a",
   "metadata": {},
   "source": [
    "#### Translate top 500 most frequently found words in the titles of the videos she watched"
   ]
  },
  {
   "cell_type": "code",
   "execution_count": null,
   "id": "f468eb22",
   "metadata": {},
   "outputs": [],
   "source": [
    "watched_videos_word_analysis_top500 = watched_videos_word_analysis[0:499]\n",
    "watched_videos_word_analysis_top500[\"translated_word\"] = watched_videos_word_analysis_top500[\"word\"].apply(translateString)\n",
    "watched_videos_word_analysis_top500.to_csv(\"../output/watched_videos_word_analysis_top500.csv\", index=False)\n",
    "watched_videos_word_analysis_top500.head()\n"
   ]
  },
  {
   "cell_type": "code",
   "execution_count": null,
   "id": "4a17d637",
   "metadata": {},
   "outputs": [],
   "source": []
  },
  {
   "cell_type": "code",
   "execution_count": null,
   "id": "e662e628",
   "metadata": {},
   "outputs": [],
   "source": [
    "text = 'hạnh phúc mã hóa'\n",
    "translated = GoogleTranslator(source='auto', target='en').translate(text=text)\n",
    "translated"
   ]
  },
  {
   "cell_type": "code",
   "execution_count": null,
   "id": "12ecf9b1",
   "metadata": {},
   "outputs": [],
   "source": []
  }
 ],
 "metadata": {
  "kernelspec": {
   "display_name": "Python 3 (ipykernel)",
   "language": "python",
   "name": "python3"
  },
  "language_info": {
   "codemirror_mode": {
    "name": "ipython",
    "version": 3
   },
   "file_extension": ".py",
   "mimetype": "text/x-python",
   "name": "python",
   "nbconvert_exporter": "python",
   "pygments_lexer": "ipython3",
   "version": "3.11.2"
  }
 },
 "nbformat": 4,
 "nbformat_minor": 5
}
