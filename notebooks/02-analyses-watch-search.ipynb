{
 "cells": [
  {
   "cell_type": "markdown",
   "id": "e5e4f7e7",
   "metadata": {},
   "source": [
    "### Analysis of YouTube Archive (in Vietnamese)\n",
    "\n",
    "This notebook runs basic analyses of from the view and watch histories data files extracted via the `01-youtube-api-scraper` notebook. \n",
    "\n",
    "Among the analyses it performs are:\n",
    "\n",
    "#### Overall findings\n",
    "- Totals\n",
    "- Ads vs watched things\n",
    "- searched terms vs watched vs other\n",
    "- searched terms (list)\n",
    "    \n",
    "#### Specific to Google Ads\n",
    "- repeat videos\n",
    "- NLP, such as words most often used\n",
    "- Time-related trends\n",
    "\n",
    "#### Specific to non-ad views\n",
    "- repeat videos\n",
    "- NLP, such as words most often used\n",
    "- Time-related trends\n"
   ]
  },
  {
   "cell_type": "code",
   "execution_count": null,
   "id": "51597634",
   "metadata": {},
   "outputs": [],
   "source": [
    "# —————— libraries built into Python ———————\n",
    "import re\n",
    "import datetime\n",
    "import time\n",
    "\n",
    "# —————— libraries that need to be installed, which you can do via pip ———————\n",
    "import pandas as pd\n",
    "from pyvi import ViTokenizer, ViPosTagger\n",
    "import matplotlib.pyplot as plt\n",
    "from deep_translator import (GoogleTranslator,\n",
    "                             PonsTranslator,\n",
    "                             LingueeTranslator,\n",
    "                             MyMemoryTranslator,\n",
    "                             YandexTranslator,\n",
    "                             DeeplTranslator,\n",
    "                             QcriTranslator,\n",
    "                             single_detection,\n",
    "                             batch_detection)"
   ]
  },
  {
   "cell_type": "code",
   "execution_count": null,
   "id": "95271115",
   "metadata": {},
   "outputs": [],
   "source": [
    "pd.set_option('display.max_colwidth', None)"
   ]
  },
  {
   "cell_type": "markdown",
   "id": "44ff8cc2",
   "metadata": {},
   "source": [
    "Load all data files:"
   ]
  },
  {
   "cell_type": "code",
   "execution_count": null,
   "id": "d132a5dc",
   "metadata": {},
   "outputs": [],
   "source": [
    "watch_history = pd.read_csv(\n",
    "    \"../output/watch_history.csv\",\n",
    "    parse_dates = [\"date_recorded\"]\n",
    ")\n",
    "watch_history.head()"
   ]
  },
  {
   "cell_type": "code",
   "execution_count": null,
   "id": "6d578392",
   "metadata": {},
   "outputs": [],
   "source": [
    "search_history = pd.read_csv(\n",
    "    \"../output/search_history.csv\",\n",
    "    parse_dates = [\"date_recorded\"]\n",
    ")\n",
    "\n",
    "\n",
    "search_history.head()"
   ]
  },
  {
   "cell_type": "code",
   "execution_count": null,
   "id": "d6bd1555",
   "metadata": {},
   "outputs": [],
   "source": [
    "watch_history.columns"
   ]
  },
  {
   "cell_type": "markdown",
   "id": "a6cdd64f",
   "metadata": {},
   "source": [
    "## Analyses\n",
    "\n",
    "\n",
    "#### First prepare the data:\n",
    "- cut off dates starting 2020\n",
    "- separate ads from views\n",
    "\n",
    "#### Then produce analyses:\n",
    "\n",
    "Overall findings:\n",
    "- Totals\n",
    "- Ads vs watched things\n",
    "- searched terms vs watched vs other\n",
    "- searched terms (list)\n",
    "    \n",
    "Specific to Google Ads:\n",
    "- repeat videos\n",
    "- NLP, such as words most often used\n",
    "- Time-related trends\n",
    "\n",
    "Specific to non-ad views:\n",
    "- Time related trends\n",
    "- repeat videos\n",
    "- NLP, such as words most often used\n",
    "- Time-related trends\n",
    "\n",
    "\n"
   ]
  },
  {
   "cell_type": "code",
   "execution_count": null,
   "id": "c6062368",
   "metadata": {},
   "outputs": [],
   "source": [
    "watch_history_sm = watch_history[watch_history[\"date_recorded\"].apply(lambda x: x.year) >= 2020]\n",
    "search_history_sm = search_history[search_history[\"date_recorded\"].apply(lambda x: x.year) >= 2020]\n",
    "watch_history_sm_no_ads = watch_history_sm[watch_history_sm[\"meta_data_details\"]!= \"\\u2003From Google Ads\"]\n",
    "watch_history_ads_only = watch_history_sm[watch_history_sm[\"meta_data_details\"]== \"\\u2003From Google Ads\"]\n",
    "search_history_ads_only = search_history_sm[search_history_sm[\"meta_data_details\"]== \"\\u2003From Google Ads\"]\n",
    "search_history_sm_no_ads = search_history_sm[search_history_sm[\"meta_data_details\"]!= \"\\u2003From Google Ads\"]"
   ]
  },
  {
   "cell_type": "code",
   "execution_count": null,
   "id": "4b6e9734",
   "metadata": {},
   "outputs": [],
   "source": [
    "search_history_sm.head(1)"
   ]
  },
  {
   "cell_type": "code",
   "execution_count": null,
   "id": "277216e0",
   "metadata": {},
   "outputs": [],
   "source": [
    "len(watch_history_ads_only)"
   ]
  },
  {
   "cell_type": "markdown",
   "id": "2463fe38",
   "metadata": {},
   "source": [
    "#### Ads vs watched things as a percentage"
   ]
  },
  {
   "cell_type": "code",
   "execution_count": null,
   "id": "ce9e48a3",
   "metadata": {},
   "outputs": [],
   "source": [
    "watch_history[\"meta_data_details\"].value_counts().reset_index()[\"count\"]/len(watch_history)*100"
   ]
  },
  {
   "cell_type": "markdown",
   "id": "933dd739",
   "metadata": {},
   "source": [
    "#### Searched terms vs watched vs other"
   ]
  },
  {
   "cell_type": "code",
   "execution_count": null,
   "id": "22b776ca",
   "metadata": {},
   "outputs": [],
   "source": [
    "search_history_sm[\"content_type\"].value_counts()"
   ]
  },
  {
   "cell_type": "markdown",
   "id": "5180b368",
   "metadata": {},
   "source": [
    "#### Searched terms (list)"
   ]
  },
  {
   "cell_type": "code",
   "execution_count": null,
   "id": "2aa8afae",
   "metadata": {},
   "outputs": [],
   "source": [
    "search_history_sm[\"content_type\"][5859]"
   ]
  },
  {
   "cell_type": "code",
   "execution_count": null,
   "id": "cc643772",
   "metadata": {},
   "outputs": [],
   "source": [
    "search_terms = search_history_sm[search_history_sm[\"content_type\"] == \"Searched for\\xa0\"]"
   ]
  },
  {
   "cell_type": "code",
   "execution_count": null,
   "id": "0f7b756f",
   "metadata": {},
   "outputs": [],
   "source": [
    "search_terms.head(2)"
   ]
  },
  {
   "cell_type": "code",
   "execution_count": null,
   "id": "7c00583a",
   "metadata": {},
   "outputs": [],
   "source": [
    "search_terms[\"translated_search\"]  = search_terms[\"video_title\"].apply(\n",
    "    lambda x: GoogleTranslator(source='auto', target='en').translate(text=str(x))\n",
    ")\n",
    "\n",
    "search_terms.head()"
   ]
  },
  {
   "cell_type": "code",
   "execution_count": null,
   "id": "16f0c409",
   "metadata": {},
   "outputs": [],
   "source": [
    "search_terms.to_csv(\"../output/search_terms_only.csv\", index=False)"
   ]
  },
  {
   "cell_type": "markdown",
   "id": "bcbec221",
   "metadata": {},
   "source": [
    "#### Analyses of words in search terms and video titles "
   ]
  },
  {
   "cell_type": "code",
   "execution_count": null,
   "id": "f963a6c1",
   "metadata": {},
   "outputs": [],
   "source": [
    "# this line uses pyvi to create word lists\n",
    "def tokenize(string): \n",
    "    return ViPosTagger.postagging(ViTokenizer.tokenize(string))[0]"
   ]
  },
  {
   "cell_type": "code",
   "execution_count": null,
   "id": "1a8def51",
   "metadata": {},
   "outputs": [],
   "source": [
    "#turn into text:\n",
    "words = []\n",
    "for index, row in search_terms.iterrows():\n",
    "    for word in tokenize(row[\"video_title\"]):\n",
    "        words.append(word)"
   ]
  },
  {
   "cell_type": "code",
   "execution_count": null,
   "id": "1ac4cee9",
   "metadata": {},
   "outputs": [],
   "source": [
    "search_terms_tokens = pd.DataFrame(words)\n",
    "search_terms_tokens.head()"
   ]
  },
  {
   "cell_type": "code",
   "execution_count": null,
   "id": "b92a3bb3",
   "metadata": {},
   "outputs": [],
   "source": [
    "search_terms_analysis = search_terms_tokens[0].value_counts().reset_index().rename(columns={0:\"word\"})\n",
    "search_terms_analysis.head()"
   ]
  },
  {
   "cell_type": "code",
   "execution_count": null,
   "id": "03fa3fbf",
   "metadata": {},
   "outputs": [],
   "source": [
    "search_terms_analysis[\"cleaned_word\"]=search_terms_analysis[\"word\"].apply(lambda x: x.replace(\"_\", \" \"))"
   ]
  },
  {
   "cell_type": "code",
   "execution_count": null,
   "id": "c7e58a7b",
   "metadata": {},
   "outputs": [],
   "source": [
    "search_terms_analysis.head()"
   ]
  },
  {
   "cell_type": "markdown",
   "id": "2ebb236c",
   "metadata": {},
   "source": [
    "#### The following cells use `deep-translator`'s Google Translator functionality to translate each word"
   ]
  },
  {
   "cell_type": "code",
   "execution_count": null,
   "id": "4ae9a960",
   "metadata": {},
   "outputs": [],
   "source": [
    "def translateString(string):\n",
    "    if re.search('[a-zA-Z]', string):\n",
    "        return GoogleTranslator(source='auto', target='en').translate(text=str(string))\n",
    "    else: \n",
    "        return string\n"
   ]
  },
  {
   "cell_type": "code",
   "execution_count": null,
   "id": "0bb0fb6f",
   "metadata": {},
   "outputs": [],
   "source": [
    "search_terms_analysis[\"translated_word\"]=search_terms_analysis[\"cleaned_word\"].apply(translateString)\n"
   ]
  },
  {
   "cell_type": "code",
   "execution_count": null,
   "id": "57c965e9",
   "metadata": {},
   "outputs": [],
   "source": [
    "search_terms_analysis.head(10)"
   ]
  },
  {
   "cell_type": "code",
   "execution_count": null,
   "id": "4dfdc5c9",
   "metadata": {},
   "outputs": [],
   "source": [
    "search_terms_analysis.to_csv(\"../output/search_terms_analysis.csv\")\n"
   ]
  },
  {
   "cell_type": "markdown",
   "id": "6ac7ad4d",
   "metadata": {},
   "source": [
    "#### Find trends in video searches"
   ]
  },
  {
   "cell_type": "code",
   "execution_count": null,
   "id": "376ed09a",
   "metadata": {},
   "outputs": [],
   "source": [
    "search_terms_daily_tallies = search_terms.set_index(\"date_recorded\").resample(\"D\")[\"video_title\"].count()"
   ]
  },
  {
   "cell_type": "code",
   "execution_count": null,
   "id": "4e701578",
   "metadata": {},
   "outputs": [],
   "source": [
    "search_terms_daily_tallies"
   ]
  },
  {
   "cell_type": "code",
   "execution_count": null,
   "id": "00214d48",
   "metadata": {},
   "outputs": [],
   "source": [
    "search_terms_daily_tallies.to_csv(\"../output/search_terms_daily_tallies.csv\")"
   ]
  },
  {
   "cell_type": "code",
   "execution_count": null,
   "id": "b478a344",
   "metadata": {},
   "outputs": [],
   "source": [
    "search_terms_daily_tallies.plot()"
   ]
  },
  {
   "cell_type": "markdown",
   "id": "30cb601a",
   "metadata": {},
   "source": [
    "#### Specific to Google Ads:\n",
    "- repeat videos\n",
    "- NLP, such as words most often used\n",
    "- Time-related trends"
   ]
  },
  {
   "cell_type": "code",
   "execution_count": null,
   "id": "76fa516d",
   "metadata": {},
   "outputs": [],
   "source": [
    "most_watched_ads = watch_history_ads_only.groupby([\"video_title\", \"link\" ]).agg({\n",
    "    \"file\":\"count\"\n",
    "}).reset_index(\n",
    ").sort_values(\n",
    "    by=[\"file\"],\n",
    "    ascending=False\n",
    ")\n",
    "\n",
    "most_watched_ads.head(10)"
   ]
  },
  {
   "cell_type": "code",
   "execution_count": null,
   "id": "53ae0f0a",
   "metadata": {},
   "outputs": [],
   "source": [
    "most_watched_ads.to_csv(\"../output/most_watched_ads.csv\", index=False)"
   ]
  },
  {
   "cell_type": "code",
   "execution_count": null,
   "id": "f9603456",
   "metadata": {},
   "outputs": [],
   "source": [
    "watch_history_ads_only.to_csv(\"../output/watch_history_ads_only.csv\", index=False)\n",
    "\n",
    "print(\n",
    "    len(watch_history_ads_only),\n",
    "    len(most_watched_ads)\n",
    ")"
   ]
  },
  {
   "cell_type": "markdown",
   "id": "57655af1",
   "metadata": {},
   "source": [
    "#### Time related trends"
   ]
  },
  {
   "cell_type": "code",
   "execution_count": null,
   "id": "1862fb7f",
   "metadata": {},
   "outputs": [],
   "source": [
    "watch_history_ads_only_daily_tallies = watch_history_ads_only.set_index(\"date_recorded\").resample(\"D\")[\"video_title\"].count()"
   ]
  },
  {
   "cell_type": "code",
   "execution_count": null,
   "id": "b1dc0f38",
   "metadata": {},
   "outputs": [],
   "source": [
    "watch_history_ads_only_daily_tallies "
   ]
  },
  {
   "cell_type": "code",
   "execution_count": null,
   "id": "9265bb54",
   "metadata": {},
   "outputs": [],
   "source": [
    "watch_history_ads_only_daily_tallies.to_csv(\"../output/watch_history_ads_only_daily_tallies.csv\")"
   ]
  },
  {
   "cell_type": "code",
   "execution_count": null,
   "id": "2ec1381d",
   "metadata": {},
   "outputs": [],
   "source": [
    "watch_history_ads_onlyhourly_tallies = watch_history_ads_only.set_index(\"date_recorded\").resample(\"H\")[\"video_title\"].count()"
   ]
  },
  {
   "cell_type": "code",
   "execution_count": null,
   "id": "f81b77f0",
   "metadata": {},
   "outputs": [],
   "source": [
    "watch_history_ads_onlyhourly_tallies"
   ]
  },
  {
   "cell_type": "markdown",
   "id": "8d1f4a8c",
   "metadata": {},
   "source": [
    "#### Specific to non-ad views:\n",
    "\n",
    "- repeat videos\n",
    "- NLP, such as words most often used\n",
    "- Time-related trends"
   ]
  },
  {
   "cell_type": "code",
   "execution_count": null,
   "id": "f375dd40",
   "metadata": {},
   "outputs": [],
   "source": [
    "watch_history_sm_no_ads.head(1)"
   ]
  },
  {
   "cell_type": "code",
   "execution_count": null,
   "id": "3c7fdf7f",
   "metadata": {},
   "outputs": [],
   "source": [
    "watch_history_sm_no_ads_tallies = watch_history_sm_no_ads.groupby([\"video_title\", \"link\" ]).agg({\n",
    "    \"file\":\"count\"\n",
    "}).reset_index(\n",
    ").sort_values(\n",
    "    by=[\"file\"],\n",
    "    ascending=False\n",
    ")\n",
    "\n",
    "watch_history_sm_no_ads_tallies.head()"
   ]
  },
  {
   "cell_type": "code",
   "execution_count": null,
   "id": "8a760215",
   "metadata": {},
   "outputs": [],
   "source": [
    "\n",
    "watch_history_sm_no_ads_tallies.head()"
   ]
  },
  {
   "cell_type": "code",
   "execution_count": null,
   "id": "c66def1f",
   "metadata": {},
   "outputs": [],
   "source": [
    "len(watch_history_sm_no_ads_tallies)"
   ]
  },
  {
   "cell_type": "code",
   "execution_count": null,
   "id": "6c6d7f00",
   "metadata": {},
   "outputs": [],
   "source": [
    "watch_history_sm_no_ads_tallies.to_csv(\"../output/most_watched_videos.csv\", index=False)"
   ]
  },
  {
   "cell_type": "markdown",
   "id": "e7fdef76",
   "metadata": {},
   "source": [
    "#### Translate only the top 1000 watched videos \n",
    "This is done to avoid errors due to rate limiting"
   ]
  },
  {
   "cell_type": "code",
   "execution_count": null,
   "id": "1d02f485",
   "metadata": {},
   "outputs": [],
   "source": [
    "def translateTitle(string):\n",
    "    return GoogleTranslator(source='auto', target='en').translate(text=str(string))\n",
    "\n",
    "top1000 = watch_history_sm_no_ads_tallies[0:999]\n",
    "top1000[\"translated_title\"] = top1000[\"video_title\"].apply(translateTitle)\n"
   ]
  },
  {
   "cell_type": "code",
   "execution_count": null,
   "id": "e27a04f7",
   "metadata": {},
   "outputs": [],
   "source": [
    "top1000.head()"
   ]
  },
  {
   "cell_type": "code",
   "execution_count": null,
   "id": "7c629eab",
   "metadata": {},
   "outputs": [],
   "source": [
    "top1000.to_csv(\"../output/top1000.csv\", index=False)"
   ]
  },
  {
   "cell_type": "markdown",
   "id": "8decc2c7",
   "metadata": {},
   "source": [
    "#### Create word count list for the watch history"
   ]
  },
  {
   "cell_type": "code",
   "execution_count": null,
   "id": "8edaa667",
   "metadata": {},
   "outputs": [],
   "source": [
    "#turn into text:\n",
    "video_title_words = []\n",
    "for index, row in watch_history_sm_no_ads_tallies.iterrows():\n",
    "    for word in tokenize(row[\"video_title\"]):\n",
    "        video_title_words.append(word)"
   ]
  },
  {
   "cell_type": "code",
   "execution_count": null,
   "id": "e6e037f3",
   "metadata": {},
   "outputs": [],
   "source": [
    "video_title_tokens = pd.DataFrame(video_title_words).rename(columns={0:\"word\"})\n",
    "video_title_tokens.head()"
   ]
  },
  {
   "cell_type": "code",
   "execution_count": null,
   "id": "895315fb",
   "metadata": {},
   "outputs": [],
   "source": [
    "watched_videos_word_analysis = video_title_tokens[\"word\"].value_counts().reset_index()\n",
    "watched_videos_word_analysis.to_csv(\"../output/watched_videos_word_analysis.csv\")\n",
    "watched_videos_word_analysis.head()"
   ]
  },
  {
   "cell_type": "markdown",
   "id": "5b85ca8a",
   "metadata": {},
   "source": [
    "#### Translate top 500 most frequently found words in the titles of the videos she watched"
   ]
  },
  {
   "cell_type": "code",
   "execution_count": null,
   "id": "f468eb22",
   "metadata": {},
   "outputs": [],
   "source": [
    "watched_videos_word_analysis_top500 = watched_videos_word_analysis[0:499]\n",
    "watched_videos_word_analysis_top500[\"translated_word\"] = watched_videos_word_analysis_top500[\"word\"].apply(translateString)\n",
    "watched_videos_word_analysis_top500.to_csv(\"../output/watched_videos_word_analysis_top500.csv\", index=False)\n",
    "watched_videos_word_analysis_top500.head()\n"
   ]
  },
  {
   "cell_type": "code",
   "execution_count": null,
   "id": "4a17d637",
   "metadata": {},
   "outputs": [],
   "source": []
  },
  {
   "cell_type": "code",
   "execution_count": null,
   "id": "12ecf9b1",
   "metadata": {},
   "outputs": [],
   "source": []
  }
 ],
 "metadata": {
  "kernelspec": {
   "display_name": "Python 3 (ipykernel)",
   "language": "python",
   "name": "python3"
  },
  "language_info": {
   "codemirror_mode": {
    "name": "ipython",
    "version": 3
   },
   "file_extension": ".py",
   "mimetype": "text/x-python",
   "name": "python",
   "nbconvert_exporter": "python",
   "pygments_lexer": "ipython3",
   "version": "3.11.2"
  }
 },
 "nbformat": 4,
 "nbformat_minor": 5
}
