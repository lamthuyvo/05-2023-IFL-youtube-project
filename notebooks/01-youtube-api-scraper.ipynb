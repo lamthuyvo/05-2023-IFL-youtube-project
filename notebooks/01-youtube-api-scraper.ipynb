{
 "cells": [
  {
   "cell_type": "markdown",
   "id": "594b532c",
   "metadata": {},
   "source": [
    "### YouTube API scraper\n",
    "\n",
    "This notebook collects information from channels based on YouTube channel IDs. The script was adapted from this [script](https://github.com/lamthuyvo/social-media-data-scripts/blob/master/01-apis/scripts/youtube-get-channel-info.py). "
   ]
  },
  {
   "cell_type": "code",
   "execution_count": null,
   "id": "46103c55",
   "metadata": {},
   "outputs": [],
   "source": [
    "# —————— libraries built into Python ———————\n",
    "import csv\n",
    "import json\n",
    "import time\n",
    "\n",
    "# —————— libraries that need to be installed, which you can do via pip ———————\n",
    "import pandas as pd\n",
    "import requests"
   ]
  },
  {
   "cell_type": "markdown",
   "id": "a9b84b8a",
   "metadata": {},
   "source": [
    "To use this script you need a YouTube API key associated with your Google account. You can sign up for one [here](https://developers.google.com/youtube/registering_an_application)."
   ]
  },
  {
   "cell_type": "code",
   "execution_count": null,
   "id": "6b3b0b45",
   "metadata": {},
   "outputs": [],
   "source": [
    "# YouTube credentials\n",
    "YOUTUBE_API_KEY = \"INSERT YOUR OWN API KEY HERE\""
   ]
  },
  {
   "cell_type": "markdown",
   "id": "075fcf99",
   "metadata": {},
   "source": [
    "This is where you specify the channel ids for which you would like to compile the information. A channel ID can usually be found at the end of the URL:  https://www.youtube.com/channel/UCjnWysJh9-r9wo82zlbMT3A\n",
    "\n",
    "When a user changed the end of their URL you can also find them via free tools online, such as [this one](https://commentpicker.com/youtube-channel-id.php)."
   ]
  },
  {
   "cell_type": "code",
   "execution_count": null,
   "id": "8f17456c",
   "metadata": {},
   "outputs": [],
   "source": [
    "# this is where we define the API query and all its variable\n",
    "api_key = YOUTUBE_API_KEY\n",
    "# add the YOUTUBE IDs into the lists here, the ID can usually be found at the end of the URL:  https://www.youtube.com/watch?v=tGRzz0oqgUE\n",
    "channel_ids = [\n",
    "   \n",
    "]"
   ]
  },
  {
   "cell_type": "markdown",
   "id": "01811d02",
   "metadata": {},
   "source": [
    "Function to scrape data (with built-in 3-second break in between attempts to ping the API):"
   ]
  },
  {
   "cell_type": "code",
   "execution_count": null,
   "id": "7d5ac013",
   "metadata": {},
   "outputs": [],
   "source": [
    "def get_channel_data(channel_id):\n",
    "    time.sleep(3)\n",
    "    # api parameters\n",
    "    params = 'snippet,status,contentDetails,statistics,topicDetails,localizations'\n",
    "    api_url = 'https://www.googleapis.com/youtube/v3/channels?part='+ params +'&id='+ channel_id +'&key='+api_key\n",
    "    # this opens the link and tells your computer that the format it is reading is JSON\n",
    "    api_response = requests.get(api_url)\n",
    "    channeldetails = json.loads(api_response.text)\n",
    "    print(channel_id)\n",
    "    '''\n",
    "    Alternatively:\n",
    "    from apiclient.discovery import build\n",
    "    obj = build('youtube', 'v3', developerKey=api_key)\n",
    "    channeldetails = obj.channels().list(part=params, id=channel_id).execute()\n",
    "    '''\n",
    "    if len(channeldetails['items']) > 0:\n",
    "        # Assign values from API to variables\n",
    "        for item in channeldetails['items']:\n",
    "            youtube_id = item['id']  \n",
    "            publishedAt = item['snippet']['publishedAt']\n",
    "            title = item['snippet']['title']\n",
    "            description = item['snippet']['description']\n",
    "            viewCount = item['statistics']['viewCount']\n",
    "            subscriberCount = item['statistics']['subscriberCount']\n",
    "            videoCount = item['statistics']['videoCount']\n",
    "            commentCount = item['statistics'].get('commentCount')\n",
    "#             country = item['snippet']['country']\n",
    "            \n",
    "            row = {\n",
    "                    'youtube_id': youtube_id,\n",
    "                    'publishedAt': publishedAt,\n",
    "                    'title': title,\n",
    "                    'description': description,\n",
    "                    'viewCount': viewCount,\n",
    "                    'subscriberCount': subscriberCount,\n",
    "                    'videoCount': videoCount,\n",
    "                    'commentCount': commentCount,\n",
    "                }\n",
    "            rows.append(row)\n",
    "    else:\n",
    "        print(channel_id + \" is not a valid ID\")\n",
    "\n"
   ]
  },
  {
   "cell_type": "markdown",
   "id": "1b51a152",
   "metadata": {},
   "source": [
    "This line runs the scraper:"
   ]
  },
  {
   "cell_type": "code",
   "execution_count": null,
   "id": "ae24bd9b",
   "metadata": {},
   "outputs": [],
   "source": [
    "rows=[]\n",
    "for channel_id in channel_ids:\n",
    "    get_channel_data(channel_id)"
   ]
  },
  {
   "cell_type": "code",
   "execution_count": null,
   "id": "0e8c2113",
   "metadata": {},
   "outputs": [],
   "source": [
    "len(rows)"
   ]
  },
  {
   "cell_type": "code",
   "execution_count": null,
   "id": "0d405cab",
   "metadata": {},
   "outputs": [],
   "source": [
    "channel_subscriptions = pd.DataFrame(rows).drop_duplicates()\n",
    "print(len(channel_subscriptions))\n",
    "channel_subscriptions.head()"
   ]
  },
  {
   "cell_type": "code",
   "execution_count": null,
   "id": "9520375c",
   "metadata": {},
   "outputs": [],
   "source": [
    "channel_subscriptions.to_csv(\"../output/channel_subscriptions.csv\")"
   ]
  },
  {
   "cell_type": "code",
   "execution_count": null,
   "id": "f0e3108e",
   "metadata": {},
   "outputs": [],
   "source": []
  },
  {
   "cell_type": "code",
   "execution_count": null,
   "id": "8f35edc4",
   "metadata": {},
   "outputs": [],
   "source": []
  }
 ],
 "metadata": {
  "kernelspec": {
   "display_name": "Python 3 (ipykernel)",
   "language": "python",
   "name": "python3"
  },
  "language_info": {
   "codemirror_mode": {
    "name": "ipython",
    "version": 3
   },
   "file_extension": ".py",
   "mimetype": "text/x-python",
   "name": "python",
   "nbconvert_exporter": "python",
   "pygments_lexer": "ipython3",
   "version": "3.11.2"
  }
 },
 "nbformat": 4,
 "nbformat_minor": 5
}
